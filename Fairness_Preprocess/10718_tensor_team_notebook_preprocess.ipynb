{
  "nbformat": 4,
  "nbformat_minor": 0,
  "metadata": {
    "colab": {
      "provenance": []
    },
    "kernelspec": {
      "name": "python3",
      "display_name": "Python 3"
    },
    "language_info": {
      "name": "python"
    }
  },
  "cells": [
    {
      "cell_type": "markdown",
      "source": [
        "# 10718 Team Tensor Group Project\n",
        "\n",
        "## Problem Background\n",
        "\n",
        "This notebook makes use of a sample of the data provided by [DonorsChoose](https://www.donorschoose.org/) to the [2014 KDD Cup](https://www.kaggle.com/c/kdd-cup-2014-predicting-excitement-at-donors-choose/data). Public schools in the United States face large disparities in funding, often resulting in teachers and staff members filling these gaps by purchasing classroom supplies out of their own pockets. DonorsChoose is an online crowdfunding platform that tries to help alleviate this financial burden on teachers by allowing them to seek funding for projects and resources from the community (projects can include classroom basics like books and markers, larger items like lab equipment or musical instruments, specific experiences like field trips or guest speakers). \n",
        "\n",
        "Projects on DonorsChoose expire after 4 months, and if the target funding level isn't reached, the project receives no funding. Since its launch in 2000, the platform has helped fund over 2 million projects at schools across the US, but about 1/3 of the projects that are posted nevertheless fail to meet their goal and go unfunded.\n",
        "\n",
        "### The Modeling Problem\n",
        "\n",
        "For the purposes of this exercise, let's assume that DonorsChoose has hired a digital content expert who will review projects and help teachers improve their postings and increase their chances of reaching their funding threshold. Because this individualized review is a labor-intensive process, the digital content expert has ** time to review and support only 10% of the projects posted to the platform on a given day**. \n",
        "\n",
        "You are a data scientist working with DonorsChoose, and your task is to help this content expert focus their limited resources on projects that most need the help. As such, you want to build a model to **identify projects that are least likely to be fully funded before they expire**  and pass them off to the digital content expert for review.\n"
      ],
      "metadata": {
        "id": "Zw1i3ELeKDLD"
      }
    },
    {
      "cell_type": "markdown",
      "source": [
        "You can find some more details about the dataset on the [KDD Cup page](https://www.kaggle.com/c/kdd-cup-2014-predicting-excitement-at-donors-choose/data), but here is a quick description of the four main source tables:\n",
        "- `data.projects` contains information about each project that was posted on the site, including IDs for the project, school, and teacher, as well as the total amount being requested (note that projects can also request additional \"optional support\" but don't need to reach this higher bar to be funded)\n",
        "- `data.essays` has project titles and descriptions\n",
        "- `data.resources` has information about the specific resources being requested\n",
        "- `data.donations` contains details about each donation that was received by a project (when it came in, the amount, whether it was from another teacher, etc.)"
      ],
      "metadata": {
        "id": "UECOSNF-8pTs"
      }
    },
    {
      "cell_type": "markdown",
      "source": [
        "# Import Statements"
      ],
      "metadata": {
        "id": "DuEcbl7xfrt-"
      }
    },
    {
      "cell_type": "code",
      "source": [
        "from tqdm import tqdm\n",
        "import pandas as pd\n",
        "import matplotlib.pyplot as plt \n",
        "from datetime import timedelta\n",
        "from random import randrange\n",
        "# Import Numpy\n",
        "import numpy as np\n",
        "# Import Scikit Learn Ridge Regression\n",
        "from sklearn.linear_model import RidgeClassifier, LogisticRegression\n",
        "from sklearn.svm import SVC\n",
        "from sklearn.ensemble import RandomForestClassifier\n",
        "from sklearn.model_selection import train_test_split\n",
        "from xgboost import XGBClassifier\n",
        "# Seaborn\n",
        "import seaborn as sns"
      ],
      "metadata": {
        "id": "1CTxbW-1ftag"
      },
      "execution_count": 1,
      "outputs": []
    },
    {
      "cell_type": "markdown",
      "source": [
        "# Getting Set Up\n",
        "\n"
      ],
      "metadata": {
        "id": "BjRBddip6lPI"
      }
    },
    {
      "cell_type": "markdown",
      "source": [
        "### Mount Google Drive Folder"
      ],
      "metadata": {
        "id": "9Ya2kbWqfB05"
      }
    },
    {
      "cell_type": "code",
      "source": [
        "# Mount Folder\n",
        "from google.colab import drive\n",
        "drive.mount('/content/gdrive')"
      ],
      "metadata": {
        "colab": {
          "base_uri": "https://localhost:8080/"
        },
        "id": "HvzXmTJxe1fQ",
        "outputId": "91fcf1b0-b17d-4313-b7f3-d281b49677e8"
      },
      "execution_count": 2,
      "outputs": [
        {
          "output_type": "stream",
          "name": "stdout",
          "text": [
            "Mounted at /content/gdrive\n"
          ]
        }
      ]
    },
    {
      "cell_type": "markdown",
      "source": [
        "### Move to Data Folder"
      ],
      "metadata": {
        "id": "eYwcW4q6fE1g"
      }
    },
    {
      "cell_type": "code",
      "source": [
        "%cd gdrive/MyDrive/10718/Data"
      ],
      "metadata": {
        "colab": {
          "base_uri": "https://localhost:8080/"
        },
        "id": "0wc33O6bfTZN",
        "outputId": "96dd17b3-27e6-449f-e22d-62f4f3bcebde"
      },
      "execution_count": 3,
      "outputs": [
        {
          "output_type": "stream",
          "name": "stdout",
          "text": [
            "/content/gdrive/MyDrive/10718/Data\n"
          ]
        }
      ]
    },
    {
      "cell_type": "markdown",
      "source": [
        "### Download into pandas"
      ],
      "metadata": {
        "id": "CbhP8v9QfnAu"
      }
    },
    {
      "cell_type": "code",
      "source": [
        "donations = pd.read_csv('donations.csv')\n",
        "essays = pd.read_csv('essays.csv')\n",
        "outcomes = pd.read_csv('outcomes.csv')\n",
        "projects = pd.read_csv('projects.csv')\n",
        "resources = pd.read_csv('resources.csv')"
      ],
      "metadata": {
        "id": "JRYwIn-UJI6t"
      },
      "execution_count": 4,
      "outputs": []
    },
    {
      "cell_type": "markdown",
      "source": [
        "# Get Main Dataset Dataframe"
      ],
      "metadata": {
        "id": "iwV-iaEMgVT_"
      }
    },
    {
      "cell_type": "markdown",
      "source": [
        "## Filter Donations for only 120 days after being posted"
      ],
      "metadata": {
        "id": "JmzIPcE5mBWu"
      }
    },
    {
      "cell_type": "code",
      "source": [
        "# Filter Donations for only four months after project\n",
        "donate_restrict = donations.merge(projects[[\"date_posted\", \"projectid\"]], on=\"projectid\", how=\"left\")\n",
        "donate_restrict[\"donation_to_project\"] = donate_restrict[\"donation_to_project\"] * (\n",
        "    (pd.to_datetime(donate_restrict[\"donation_timestamp\"]) - \n",
        "     pd.to_datetime(donate_restrict[\"date_posted\"])) < pd.Timedelta(\"120day\")).astype(float)"
      ],
      "metadata": {
        "id": "Daetf8gOkRbs"
      },
      "execution_count": 5,
      "outputs": []
    },
    {
      "cell_type": "markdown",
      "source": [
        "## Get Resources Dataframe and Quantity/Prices of Resources"
      ],
      "metadata": {
        "id": "QoKtD9q0mK5_"
      }
    },
    {
      "cell_type": "code",
      "source": [
        "# Group Resources Dataframe\n",
        "res_df = resources.groupby(['projectid','project_resource_type'])['item_unit_price','item_quantity'].sum().reset_index()\n",
        "res_df['price'] = res_df['item_unit_price']\n",
        "res_df['quantity'] = res_df['item_quantity']\n",
        "del res_df['item_unit_price']\n",
        "del res_df['item_quantity']\n",
        "# Pivot it to get resources for type\n",
        "resources_pivot = res_df.pivot(index='projectid',columns='project_resource_type',values=['price','quantity']).reset_index()\n",
        "resources_pivot.columns = ['_'.join(col).strip() for col in resources_pivot.columns.values]\n",
        "resources_pivot = resources_pivot.rename(columns={'projectid_':'projectid'})\n",
        "resources_pivot = resources_pivot.fillna(0)\n",
        "# Also get total resources\n",
        "resources_pivot['item_quantity'] = resources_pivot['quantity_Books'] + resources_pivot['quantity_Other'] \\\n",
        "+ resources_pivot['quantity_Supplies'] + resources_pivot['quantity_Technology'] \\\n",
        "+ resources_pivot['quantity_Trips'] + resources_pivot['quantity_Visitors']\n",
        "resources_pivot['item_price'] = resources_pivot['price_Books'] + resources_pivot['price_Other'] \\\n",
        "+ resources_pivot['price_Supplies'] + resources_pivot['price_Technology'] \\\n",
        "+ resources_pivot['price_Trips'] + resources_pivot['price_Visitors']\n",
        "print(f\"Length of resources dataframe: {len(resources_pivot)}\")"
      ],
      "metadata": {
        "colab": {
          "base_uri": "https://localhost:8080/"
        },
        "id": "7hiAe_LKgsCg",
        "outputId": "e769b744-1d0b-4db5-ab9b-83ad2194c6c3"
      },
      "execution_count": 6,
      "outputs": [
        {
          "output_type": "stream",
          "name": "stderr",
          "text": [
            "<ipython-input-6-68f34ec8ba92>:2: FutureWarning: Indexing with multiple keys (implicitly converted to a tuple of keys) will be deprecated, use a list instead.\n",
            "  res_df = resources.groupby(['projectid','project_resource_type'])['item_unit_price','item_quantity'].sum().reset_index()\n"
          ]
        },
        {
          "output_type": "stream",
          "name": "stdout",
          "text": [
            "Length of resources dataframe: 663729\n"
          ]
        }
      ]
    },
    {
      "cell_type": "markdown",
      "source": [
        "## Make Final Dataframe"
      ],
      "metadata": {
        "id": "yWLM_YnlmUAD"
      }
    },
    {
      "cell_type": "code",
      "source": [
        "# Get Total Projects\n",
        "tot_df = projects.join(donate_restrict.groupby(\"projectid\")[\"donation_to_project\"].sum(), on=\"projectid\", how=\"left\")\n",
        "tot_df = tot_df.merge(resources_pivot, on=\"projectid\", how=\"left\")\n",
        "print(f\"Projects Merged: {len(tot_df)}\")\n",
        "# Replace NaN Donations with 0\n",
        "tot_df['donation_to_project'] = tot_df['donation_to_project'].fillna(0)\n",
        "# Get Fraction Amount Funded (If NaN, it means nothing asked to be fully funded)\n",
        "tot_df['fraction_funded'] = tot_df['donation_to_project']/tot_df['total_price_excluding_optional_support']\n",
        "tot_df['fraction_funded'] = tot_df['fraction_funded'].fillna(1)\n",
        "# Make it a datatime feature\n",
        "tot_df['date_posted'] = pd.to_datetime(tot_df['date_posted'])\n",
        "tot_df['year'] = tot_df['date_posted'].dt.year\n",
        "# Make Binary on Fully Funded\n",
        "tot_df[\"fully_funded\"] = 0\n",
        "tot_df.loc[tot_df[\"fraction_funded\"] >= 1, \"fully_funded\"] = 1\n",
        "# Get Rid of Rows without a Zip Value\n",
        "tot_df = tot_df[tot_df['school_zip'].notna()]\n",
        "print(f\"Final Total DF: {len(tot_df)}\")"
      ],
      "metadata": {
        "id": "F7veE5LxgUl4",
        "colab": {
          "base_uri": "https://localhost:8080/"
        },
        "outputId": "14ba4b55-c583-4110-ecf2-14156760c472"
      },
      "execution_count": 7,
      "outputs": [
        {
          "output_type": "stream",
          "name": "stdout",
          "text": [
            "Projects Merged: 664098\n",
            "Final Total DF: 664094\n"
          ]
        }
      ]
    },
    {
      "cell_type": "markdown",
      "source": [
        "# Add New Features"
      ],
      "metadata": {
        "id": "TsBCKThllnoY"
      }
    },
    {
      "cell_type": "code",
      "source": [
        "# Add Random Datatime Column\n",
        "tot_df['datetime_posted'] = tot_df.apply(lambda x : x.date_posted + timedelta(seconds=x.name), axis=1)"
      ],
      "metadata": {
        "id": "npfSAPKcwStA"
      },
      "execution_count": 8,
      "outputs": []
    },
    {
      "cell_type": "code",
      "source": [
        "def calculate_previous_avg(data, date_col, group_col, value_col, days=120):\n",
        "    \"\"\"\n",
        "    Calculate the previous average\n",
        "    \n",
        "    Args:\n",
        "        data (DataFrame): The input DataFrame.\n",
        "        date_col (str): The name of the column containing the date values.\n",
        "        group_col (str): The name of the column containing the group values.\n",
        "        value_col (str): The name of the column containing the values to average.\n",
        "    \n",
        "    Returns:\n",
        "        A Pandas Series containing the calculated averages for each row in the input DataFrame.\n",
        "    \"\"\"\n",
        "    # Restrict Data\n",
        "    data = data[[date_col, group_col, value_col]]\n",
        "\n",
        "    # Sort the data by date\n",
        "    data = data.sort_values([date_col]).set_index(date_col)\n",
        "\n",
        "    # Now Get Expanding Sum and Rolling Sum for Last 120 Days\n",
        "    expand_sum = data.groupby(group_col)[value_col].expanding(1).sum().reset_index().sort_values(date_col)\n",
        "    roll_sum = data.groupby(group_col)[value_col].rolling(f\"{days}D\").sum().reset_index().sort_values(date_col)\n",
        "    prev_sum = expand_sum[value_col]-roll_sum[value_col]\n",
        "\n",
        "    # Now Get Expanding Count and Rolling Count for Last 120 Days\n",
        "    expand_count = data.groupby(group_col)[value_col].expanding(1).count().reset_index().sort_values(date_col)\n",
        "    roll_count = data.groupby(group_col)[value_col].rolling(f\"{days}D\").count().reset_index().sort_values(date_col)\n",
        "    prev_count = expand_count[value_col]-roll_count[value_col]\n",
        "\n",
        "    # Add to Dataframe\n",
        "    expand_sum[f'{group_col}_prev_avg'] = prev_sum.div(prev_count).fillna(0)\n",
        "    del expand_sum[value_col]\n",
        "    return expand_sum"
      ],
      "metadata": {
        "id": "iZ2jdo5etW16"
      },
      "execution_count": 9,
      "outputs": []
    },
    {
      "cell_type": "code",
      "source": [
        "retAns = calculate_previous_avg(tot_df,'datetime_posted','teacher_acctid','fully_funded')\n",
        "tot_df = tot_df.merge(retAns,on=['datetime_posted','teacher_acctid'])\n",
        "print(f\"New Length of Dataframe: {len(tot_df)}\")"
      ],
      "metadata": {
        "colab": {
          "base_uri": "https://localhost:8080/"
        },
        "id": "oxE_wDxFp4Wx",
        "outputId": "58d8f208-2b56-4438-9e59-1be7a1549b40"
      },
      "execution_count": 10,
      "outputs": [
        {
          "output_type": "stream",
          "name": "stdout",
          "text": [
            "New Length of Dataframe: 664094\n"
          ]
        }
      ]
    },
    {
      "cell_type": "code",
      "source": [
        "retAns = calculate_previous_avg(tot_df,'datetime_posted','schoolid','fully_funded')\n",
        "tot_df = tot_df.merge(retAns,on=['datetime_posted','schoolid'])\n",
        "print(f\"New Length of Dataframe: {len(tot_df)}\")"
      ],
      "metadata": {
        "colab": {
          "base_uri": "https://localhost:8080/"
        },
        "id": "AcP9UNiYy-Pn",
        "outputId": "e5bfc85d-330d-4e3b-a8a7-210868e7ad4d"
      },
      "execution_count": 11,
      "outputs": [
        {
          "output_type": "stream",
          "name": "stdout",
          "text": [
            "New Length of Dataframe: 664094\n"
          ]
        }
      ]
    },
    {
      "cell_type": "code",
      "source": [
        "retAns = calculate_previous_avg(tot_df,'datetime_posted','school_zip','fully_funded')\n",
        "tot_df = tot_df.merge(retAns,on=['datetime_posted','school_zip'])\n",
        "print(f\"New Length of Dataframe: {len(tot_df)}\")"
      ],
      "metadata": {
        "colab": {
          "base_uri": "https://localhost:8080/"
        },
        "id": "t7QV9DPKznew",
        "outputId": "41167051-4198-4bf2-9f8a-72b3ab8335e6"
      },
      "execution_count": 12,
      "outputs": [
        {
          "output_type": "stream",
          "name": "stdout",
          "text": [
            "New Length of Dataframe: 664094\n"
          ]
        }
      ]
    },
    {
      "cell_type": "code",
      "source": [
        "def add_donations_after_time(df,days=7):\n",
        "  # Get Donations a week after the project\n",
        "  new_donation = donations.merge(projects[[\"date_posted\", \"projectid\"]], on=\"projectid\", how=\"left\")\n",
        "  new_donation[f\"donations_after_{days}days\"] = new_donation[\"donation_to_project\"] * (\n",
        "      (pd.to_datetime(new_donation[\"donation_timestamp\"]) - \n",
        "      pd.to_datetime(new_donation[\"date_posted\"])) < pd.Timedelta(f\"{days}day\")).astype(float)\n",
        "  new_donation = new_donation.groupby(\"projectid\")[f\"donations_after_{days}days\"].sum().reset_index()\n",
        "  # Add to Project Donations\n",
        "  df = df.merge(new_donation, on=\"projectid\",how='left')\n",
        "  df[f\"donations_after_{days}days\"] = df[f\"donations_after_{days}days\"].fillna(0)\n",
        "  # Add fraction funded after x days with na filled with 1\n",
        "  df[f\"fraction_funded_after_{days}days\"] = df[f\"donations_after_{days}days\"]/df['total_price_excluding_optional_support']\n",
        "  df[f\"fraction_funded_after_{days}days\"] = df[f\"fraction_funded_after_{days}days\"].fillna(1)\n",
        "  return df"
      ],
      "metadata": {
        "id": "lBwcHK4c-IHR"
      },
      "execution_count": 13,
      "outputs": []
    },
    {
      "cell_type": "code",
      "source": [
        "tot_df = add_donations_after_time(tot_df,days=5)\n",
        "print(f\"New Length of Dataframe: {len(tot_df)}\")"
      ],
      "metadata": {
        "colab": {
          "base_uri": "https://localhost:8080/"
        },
        "id": "_wcjI4nMz1yl",
        "outputId": "58f68f31-1dc4-4313-da83-6ff6eec7f160"
      },
      "execution_count": 14,
      "outputs": [
        {
          "output_type": "stream",
          "name": "stdout",
          "text": [
            "New Length of Dataframe: 664094\n"
          ]
        }
      ]
    },
    {
      "cell_type": "code",
      "source": [
        "tot_df = add_donations_after_time(tot_df,days=10)\n",
        "print(f\"New Length of Dataframe: {len(tot_df)}\")"
      ],
      "metadata": {
        "colab": {
          "base_uri": "https://localhost:8080/"
        },
        "id": "q4822FIHXNiW",
        "outputId": "bcb8f5ca-4ef3-4960-cbf5-902cfdea78d1"
      },
      "execution_count": 15,
      "outputs": [
        {
          "output_type": "stream",
          "name": "stdout",
          "text": [
            "New Length of Dataframe: 664094\n"
          ]
        }
      ]
    },
    {
      "cell_type": "code",
      "source": [
        "tot_df = add_donations_after_time(tot_df,days=15)\n",
        "print(f\"New Length of Dataframe: {len(tot_df)}\")"
      ],
      "metadata": {
        "colab": {
          "base_uri": "https://localhost:8080/"
        },
        "id": "vSzpy_fYXOI4",
        "outputId": "a8a233e7-ca30-49d4-bb51-864aa8a44c86"
      },
      "execution_count": 16,
      "outputs": [
        {
          "output_type": "stream",
          "name": "stdout",
          "text": [
            "New Length of Dataframe: 664094\n"
          ]
        }
      ]
    },
    {
      "cell_type": "code",
      "source": [
        "tot_df = add_donations_after_time(tot_df,days=20)\n",
        "print(f\"New Length of Dataframe: {len(tot_df)}\")"
      ],
      "metadata": {
        "colab": {
          "base_uri": "https://localhost:8080/"
        },
        "id": "uQZM6I9iXOUt",
        "outputId": "4d70c9ab-e638-44f2-fd4b-4ed06281e85c"
      },
      "execution_count": 17,
      "outputs": [
        {
          "output_type": "stream",
          "name": "stdout",
          "text": [
            "New Length of Dataframe: 664094\n"
          ]
        }
      ]
    },
    {
      "cell_type": "code",
      "source": [
        "tot_df = add_donations_after_time(tot_df,days=25)\n",
        "print(f\"New Length of Dataframe: {len(tot_df)}\")"
      ],
      "metadata": {
        "colab": {
          "base_uri": "https://localhost:8080/"
        },
        "id": "7lBcVQTzXTQc",
        "outputId": "cc002c1a-ac19-401b-e306-71a533cd436a"
      },
      "execution_count": 18,
      "outputs": [
        {
          "output_type": "stream",
          "name": "stdout",
          "text": [
            "New Length of Dataframe: 664094\n"
          ]
        }
      ]
    },
    {
      "cell_type": "code",
      "source": [
        "tot_df = add_donations_after_time(tot_df,days=30)\n",
        "print(f\"New Length of Dataframe: {len(tot_df)}\")"
      ],
      "metadata": {
        "colab": {
          "base_uri": "https://localhost:8080/"
        },
        "id": "BVFILdPdXTaM",
        "outputId": "6d8686a1-5837-4b41-87b8-8a47b76f63bd"
      },
      "execution_count": 19,
      "outputs": [
        {
          "output_type": "stream",
          "name": "stdout",
          "text": [
            "New Length of Dataframe: 664094\n"
          ]
        }
      ]
    },
    {
      "cell_type": "markdown",
      "source": [
        "# Imputation Methods"
      ],
      "metadata": {
        "id": "4kKkV7Ub8Zs8"
      }
    },
    {
      "cell_type": "code",
      "source": [
        "def label_null_as_false(df,cols):\n",
        "  df[cols] = df[cols].fillna(\"f\")"
      ],
      "metadata": {
        "id": "0EbfXKMNDt1X"
      },
      "execution_count": 20,
      "outputs": []
    },
    {
      "cell_type": "code",
      "source": [
        "# Fill NaN False\n",
        "cols = [\"teacher_teach_for_america\",\"teacher_ny_teaching_fellow\",\"school_nlns\",\"school_kipp\",\"school_magnet\",\"school_charter\"]\n",
        "label_null_as_false(tot_df,cols)"
      ],
      "metadata": {
        "id": "yUOzsbcHD4vO"
      },
      "execution_count": 21,
      "outputs": []
    },
    {
      "cell_type": "code",
      "source": [
        "def label_null_with_most_popular_and_flag(df,cols):\n",
        "  df[[i+\"_flag\" for i in cols]] = df[cols].isnull()\n",
        "  for col in cols: df[col] = df[col].fillna(df[col].mode().iloc[0])"
      ],
      "metadata": {
        "id": "gRCg6CHPEMXw"
      },
      "execution_count": 22,
      "outputs": []
    },
    {
      "cell_type": "code",
      "source": [
        "# Fill NaN with Most Popular Category and Flag\n",
        "cols = [\"primary_focus_subject\",\"primary_focus_area\",\"resource_type\",\"poverty_level\"]\n",
        "label_null_with_most_popular_and_flag(tot_df,cols)"
      ],
      "metadata": {
        "id": "xLuMAu4uEc0C"
      },
      "execution_count": 23,
      "outputs": []
    },
    {
      "cell_type": "code",
      "source": [
        "def label_null_with_mean_and_flag(df,cols):\n",
        "  for col in cols:\n",
        "    if df[col].isnull().values.any(): \n",
        "      df[f\"{col}_flag\"] = df[col].isnull()\n",
        "  for col in cols: \n",
        "    df[col] = df[col].fillna(df[col].mean())"
      ],
      "metadata": {
        "id": "FhkTrpxpGKUV"
      },
      "execution_count": 24,
      "outputs": []
    },
    {
      "cell_type": "code",
      "source": [
        "# Fill NaN with Mean and Flag\n",
        "cols = [\"total_price_excluding_optional_support\",\"students_reached\"]\n",
        "label_null_with_mean_and_flag(tot_df,cols)"
      ],
      "metadata": {
        "id": "tXX2EJlmGYbO"
      },
      "execution_count": 25,
      "outputs": []
    },
    {
      "cell_type": "markdown",
      "source": [
        "# Data Pre-processing Step"
      ],
      "metadata": {
        "id": "0fDF2QBQmdeY"
      }
    },
    {
      "cell_type": "markdown",
      "source": [
        "## Add Class Weight based on sensitive feature"
      ],
      "metadata": {
        "id": "VOW8oN91IBds"
      }
    },
    {
      "cell_type": "code",
      "source": [
        "# Convert Back to Pandas Dataframe\n",
        "def calc_weights(df,sen_feat,label):\n",
        "  retDict = {}\n",
        "  for feat in df[sen_feat].unique():\n",
        "    if feat == np.NaN: continue\n",
        "    for lab in df[label].unique():\n",
        "      tot_len = len(df)\n",
        "      len_sen = len(df[df[sen_feat] == feat])\n",
        "      len_lab = len(df[df[label] == lab])\n",
        "      len_both = len(df[(df[label] == lab) & (df[sen_feat] == feat)])\n",
        "      retDict[(feat,lab)] = (len_sen * len_lab) / (tot_len *len_both)\n",
        "  return retDict"
      ],
      "metadata": {
        "id": "GVNOauXBuxNF"
      },
      "execution_count": 64,
      "outputs": []
    },
    {
      "cell_type": "code",
      "source": [
        "# Features\n",
        "sensitive_features = 'poverty_level'\n",
        "label = \"fully_funded\"\n",
        "# Calc Dict\n",
        "retDict = calc_weights(tot_df,sensitive_features,label)\n",
        "print(retDict)"
      ],
      "metadata": {
        "id": "eL96panWt5a2",
        "colab": {
          "base_uri": "https://localhost:8080/"
        },
        "outputId": "cf236531-cd8b-48de-98e3-881b6843bacd"
      },
      "execution_count": 68,
      "outputs": [
        {
          "output_type": "stream",
          "name": "stdout",
          "text": [
            "{('highest poverty', 0): 1.0658498162870846, ('highest poverty', 1): 0.9515161624025906, ('high poverty', 0): 0.9280370868048566, ('high poverty', 1): 1.0683232218693535, ('moderate poverty', 0): 0.9044299306989789, ('moderate poverty', 1): 1.095470675752226, ('low poverty', 0): 0.9604568404472861, ('low poverty', 1): 1.035149475157968}\n"
          ]
        }
      ]
    },
    {
      "cell_type": "markdown",
      "source": [
        "## Add Weight"
      ],
      "metadata": {
        "id": "QqF7ZPTjIYRR"
      }
    },
    {
      "cell_type": "code",
      "source": [
        "def add_weight(df,sen_feat,label,retDict):\n",
        "  df['weight'] = [retDict[(i,j)] for i,j in zip(df[sen_feat],df[label])]"
      ],
      "metadata": {
        "id": "ZdyFJdAJIa5o"
      },
      "execution_count": 85,
      "outputs": []
    },
    {
      "cell_type": "code",
      "source": [
        "add_weight(tot_df,sensitive_features,label,retDict)"
      ],
      "metadata": {
        "id": "x-9dWQv0JGzq"
      },
      "execution_count": 86,
      "outputs": []
    },
    {
      "cell_type": "markdown",
      "source": [
        "## Do Re-sampling"
      ],
      "metadata": {
        "id": "UUg0_Y75Kdyl"
      }
    },
    {
      "cell_type": "code",
      "source": [
        "def resample(df,sen_feat,label,retDict):\n",
        "  retDf = []\n",
        "  for i,j in retDict:\n",
        "    sub_df = df[(df[sen_feat] == i) & (df[label] == j)]\n",
        "    sampLen = int(len(sub_df) * retDict[(i,j)])\n",
        "    retDf.append(sub_df.sample(sampLen,replace=True))\n",
        "  return pd.concat(retDf).reset_index()"
      ],
      "metadata": {
        "id": "Qu75R9aaKao9"
      },
      "execution_count": 101,
      "outputs": []
    },
    {
      "cell_type": "code",
      "source": [
        "resamp_tot_df = resample(tot_df,sensitive_features,label,retDict)"
      ],
      "metadata": {
        "id": "eqmFUhoJKxld"
      },
      "execution_count": 102,
      "outputs": []
    },
    {
      "cell_type": "markdown",
      "source": [
        "# Base Rate"
      ],
      "metadata": {
        "id": "8ygfkVyegOVb"
      }
    },
    {
      "cell_type": "code",
      "source": [
        "# Get Baseline Rate A\n",
        "print(tot_df[\"fully_funded\"].value_counts()/len(tot_df)*100)"
      ],
      "metadata": {
        "id": "n4LFpsrLMePc",
        "outputId": "e04e6a5e-d929-45e0-bce4-047c04e3900b",
        "colab": {
          "base_uri": "https://localhost:8080/"
        }
      },
      "execution_count": 104,
      "outputs": [
        {
          "output_type": "stream",
          "name": "stdout",
          "text": [
            "1    54.802031\n",
            "0    45.197969\n",
            "Name: fully_funded, dtype: float64\n"
          ]
        }
      ]
    },
    {
      "cell_type": "code",
      "source": [
        "# Get Baseline Rate B\n",
        "print(resamp_tot_df[\"fully_funded\"].value_counts()/len(resamp_tot_df)*100)"
      ],
      "metadata": {
        "colab": {
          "base_uri": "https://localhost:8080/"
        },
        "id": "s5iVJzuPLtYX",
        "outputId": "ba3f031b-63d1-4175-fc69-42e846a87d33"
      },
      "execution_count": 105,
      "outputs": [
        {
          "output_type": "stream",
          "name": "stdout",
          "text": [
            "1    54.801909\n",
            "0    45.198091\n",
            "Name: fully_funded, dtype: float64\n"
          ]
        }
      ]
    },
    {
      "cell_type": "markdown",
      "source": [
        "# Baseline Rate"
      ],
      "metadata": {
        "id": "4UNoKqjNgRCa"
      }
    },
    {
      "cell_type": "code",
      "source": [
        "def get_baseline_rate(df, feature, q=0.9):\n",
        "  baseline = df[feature].quantile(q=q)\n",
        "  print(f\"Baseline Value: {baseline}\")\n",
        "  check_df = df[df[feature] > baseline]\n",
        "  print(f\"Percentile: {len(check_df)/len(df)*100:.2f}\")\n",
        "  print(check_df[\"fully_funded\"].value_counts()/len(check_df)*100)"
      ],
      "metadata": {
        "id": "it6meWs2oyAb"
      },
      "execution_count": 106,
      "outputs": []
    },
    {
      "cell_type": "code",
      "source": [
        "get_baseline_rate(tot_df,'total_price_excluding_optional_support')"
      ],
      "metadata": {
        "colab": {
          "base_uri": "https://localhost:8080/"
        },
        "id": "T1mrAQtFrSw8",
        "outputId": "37c9cf3f-996c-4c84-f1f3-8c3c4f6b4fbe"
      },
      "execution_count": 107,
      "outputs": [
        {
          "output_type": "stream",
          "name": "stdout",
          "text": [
            "Baseline Value: 853.98\n",
            "Percentile: 9.94\n",
            "0    63.402038\n",
            "1    36.597962\n",
            "Name: fully_funded, dtype: float64\n"
          ]
        }
      ]
    },
    {
      "cell_type": "code",
      "source": [
        "get_baseline_rate(tot_df,'total_price_including_optional_support')"
      ],
      "metadata": {
        "colab": {
          "base_uri": "https://localhost:8080/"
        },
        "id": "keM4WG6jrvgQ",
        "outputId": "5bfc89ea-43ce-4cab-ef6a-b344aef14eda"
      },
      "execution_count": 108,
      "outputs": [
        {
          "output_type": "stream",
          "name": "stdout",
          "text": [
            "Baseline Value: 1010.58\n",
            "Percentile: 10.00\n",
            "0    63.58667\n",
            "1    36.41333\n",
            "Name: fully_funded, dtype: float64\n"
          ]
        }
      ]
    },
    {
      "cell_type": "code",
      "source": [
        "get_baseline_rate(tot_df,'students_reached')"
      ],
      "metadata": {
        "colab": {
          "base_uri": "https://localhost:8080/"
        },
        "id": "dp6uXbZ8spNM",
        "outputId": "20ee6989-336f-484b-b0ba-a39dae3b5e57"
      },
      "execution_count": 109,
      "outputs": [
        {
          "output_type": "stream",
          "name": "stdout",
          "text": [
            "Baseline Value: 200.0\n",
            "Percentile: 9.26\n",
            "1    51.998568\n",
            "0    48.001432\n",
            "Name: fully_funded, dtype: float64\n"
          ]
        }
      ]
    },
    {
      "cell_type": "markdown",
      "source": [
        "## Test-Train Split"
      ],
      "metadata": {
        "id": "e-hSc-sDvCla"
      }
    },
    {
      "cell_type": "code",
      "source": [
        "# Get ideas about datetime range\n",
        "print(f\"Min Date: {tot_df['date_posted'].min()}, Max Date: {tot_df['date_posted'].max()}\")"
      ],
      "metadata": {
        "colab": {
          "base_uri": "https://localhost:8080/"
        },
        "id": "Are6MHdpwP0_",
        "outputId": "35df537b-af98-44f2-c08d-713a5fed6ebd"
      },
      "execution_count": 110,
      "outputs": [
        {
          "output_type": "stream",
          "name": "stdout",
          "text": [
            "Min Date: 2002-09-13 00:00:00, Max Date: 2014-05-12 00:00:00\n"
          ]
        }
      ]
    },
    {
      "cell_type": "code",
      "source": [
        "def test_train_split(df, feature, train_time, valid_time, model_time, n_of_splits=3, startdate = \"2008-01-01\"):\n",
        "  trainList = []\n",
        "  validList = []\n",
        "  startdate = pd.to_datetime(startdate)\n",
        "  for split in range(n_of_splits):\n",
        "    train_data = df[(startdate <= df[feature]) & (df[feature] < startdate+train_time)]\n",
        "    trainList.append(train_data)\n",
        "    valid_data = df[(startdate + train_time <= df[feature]) & (df[feature] < startdate + train_time + valid_time)]\n",
        "    validList.append(valid_data)\n",
        "    print(f\"Train Min Time: {train_data[feature].min()}, Max Time: {train_data[feature].max()}\")\n",
        "    print(f\"Train Min Label Time: {train_data[feature].min() + pd.Timedelta(120,'d')} + Max Label Time: {train_data[feature].max() + pd.Timedelta(120,'d')}\")\n",
        "    print(f\"Valid Min Time: {valid_data[feature].min()}, Max Time: {valid_data[feature].max()}\")\n",
        "    print(f\"Valid Min Label Time: {valid_data[feature].min() + pd.Timedelta(120,'d')} + Valid Label Time: {valid_data[feature].max() + pd.Timedelta(120,'d')}\")\n",
        "    print()\n",
        "    # Go to Next Data\n",
        "    startdate += model_time\n",
        "  return trainList, validList"
      ],
      "metadata": {
        "id": "bVRuuD7BvFc0"
      },
      "execution_count": 111,
      "outputs": []
    },
    {
      "cell_type": "code",
      "source": [
        "trainList, validList = test_train_split(tot_df,'date_posted',pd.Timedelta(360,\"d\"),pd.Timedelta(120,\"d\"),pd.Timedelta(480,\"d\"))\n",
        "#trainList, validList = test_train_split(resamp_tot_df,'date_posted',pd.Timedelta(360,\"d\"),pd.Timedelta(120,\"d\"),pd.Timedelta(480,\"d\"))"
      ],
      "metadata": {
        "colab": {
          "base_uri": "https://localhost:8080/"
        },
        "id": "mbxNeTKJzTew",
        "outputId": "20d6ba54-0fda-449c-e21e-f1691265babe"
      },
      "execution_count": 118,
      "outputs": [
        {
          "output_type": "stream",
          "name": "stdout",
          "text": [
            "Train Min Time: 2008-01-01 00:00:00, Max Time: 2008-12-25 00:00:00\n",
            "Train Min Label Time: 2008-04-30 00:00:00 + Max Label Time: 2009-04-24 00:00:00\n",
            "Valid Min Time: 2008-12-26 00:00:00, Max Time: 2009-04-24 00:00:00\n",
            "Valid Min Label Time: 2009-04-25 00:00:00 + Valid Label Time: 2009-08-22 00:00:00\n",
            "\n",
            "Train Min Time: 2009-04-25 00:00:00, Max Time: 2010-04-19 00:00:00\n",
            "Train Min Label Time: 2009-08-23 00:00:00 + Max Label Time: 2010-08-17 00:00:00\n",
            "Valid Min Time: 2010-04-20 00:00:00, Max Time: 2010-08-17 00:00:00\n",
            "Valid Min Label Time: 2010-08-18 00:00:00 + Valid Label Time: 2010-12-15 00:00:00\n",
            "\n",
            "Train Min Time: 2010-08-18 00:00:00, Max Time: 2011-08-12 00:00:00\n",
            "Train Min Label Time: 2010-12-16 00:00:00 + Max Label Time: 2011-12-10 00:00:00\n",
            "Valid Min Time: 2011-08-13 00:00:00, Max Time: 2011-12-10 00:00:00\n",
            "Valid Min Label Time: 2011-12-11 00:00:00 + Valid Label Time: 2012-04-08 00:00:00\n",
            "\n"
          ]
        }
      ]
    },
    {
      "cell_type": "markdown",
      "source": [
        "# Train Features Base Rates"
      ],
      "metadata": {
        "id": "Xzr3n4LDoun7"
      }
    },
    {
      "cell_type": "code",
      "source": [
        "def get_test_train_baseline_rate(train_df, test_df, feature, per=0.1):\n",
        "  baseline = train_df[feature].quantile(q=1-per)\n",
        "  # Get Precision\n",
        "  prec_df = test_df[test_df[feature] > baseline]\n",
        "  precision = 1 - prec_df['fully_funded'].mean()\n",
        "  # Get Recall\n",
        "  recall = (test_df[test_df[\"fully_funded\"] == 0][feature] > baseline).astype(float).mean()\n",
        "  return baseline, precision, recall"
      ],
      "metadata": {
        "id": "TBbX7qtQ7Spx"
      },
      "execution_count": 119,
      "outputs": []
    },
    {
      "cell_type": "code",
      "source": [
        "for i in range(3):\n",
        "  print(f\"Train Test Split: {i}\")\n",
        "  train_data, valid_data = trainList[i], validList[i]\n",
        "  print(valid_data[\"fully_funded\"].value_counts()/len(valid_data)*100)\n",
        "  print(\"Feature: total_price_excluding_optional_support\")\n",
        "  _, precision, recall = get_test_train_baseline_rate(train_data,valid_data,\"total_price_excluding_optional_support\")\n",
        "  print(f\"Precision: {precision*100:.2f}%\")\n",
        "  print(f\"Recall: {recall*100:.2f}%\")\n",
        "  print(\"\\nFeature: students_reached\")\n",
        "  _, precision, recall = get_test_train_baseline_rate(train_data,valid_data,\"students_reached\")\n",
        "  print(f\"Precision: {precision*100:.2f}%\")\n",
        "  print(f\"Recall: {recall*100:.2f}%\")\n",
        "  print(\"\\nFeature: total_price_including_optional_support\")\n",
        "  _, precision, recall = get_test_train_baseline_rate(train_data,valid_data,\"total_price_including_optional_support\")\n",
        "  print(f\"Precision: {precision*100:.2f}%\")\n",
        "  print(f\"Recall: {recall*100:.2f}%\")\n",
        "  print()"
      ],
      "metadata": {
        "colab": {
          "base_uri": "https://localhost:8080/"
        },
        "id": "1bTdXAwBvY4D",
        "outputId": "1a73f232-42b6-40f2-c17a-94455343fce1"
      },
      "execution_count": 120,
      "outputs": [
        {
          "output_type": "stream",
          "name": "stdout",
          "text": [
            "Train Test Split: 0\n",
            "1    55.691434\n",
            "0    44.308566\n",
            "Name: fully_funded, dtype: float64\n",
            "Feature: total_price_excluding_optional_support\n",
            "Precision: 55.53%\n",
            "Recall: 13.87%\n",
            "\n",
            "Feature: students_reached\n",
            "Precision: 47.43%\n",
            "Recall: 11.24%\n",
            "\n",
            "Feature: total_price_including_optional_support\n",
            "Precision: 55.53%\n",
            "Recall: 13.87%\n",
            "\n",
            "Train Test Split: 1\n",
            "1    54.702415\n",
            "0    45.297585\n",
            "Name: fully_funded, dtype: float64\n",
            "Feature: total_price_excluding_optional_support\n",
            "Precision: 59.62%\n",
            "Recall: 11.81%\n",
            "\n",
            "Feature: students_reached\n",
            "Precision: 46.82%\n",
            "Recall: 10.34%\n",
            "\n",
            "Feature: total_price_including_optional_support\n",
            "Precision: 59.31%\n",
            "Recall: 9.68%\n",
            "\n",
            "Train Test Split: 2\n",
            "1    64.49924\n",
            "0    35.50076\n",
            "Name: fully_funded, dtype: float64\n",
            "Feature: total_price_excluding_optional_support\n",
            "Precision: 48.20%\n",
            "Recall: 13.71%\n",
            "\n",
            "Feature: students_reached\n",
            "Precision: 39.16%\n",
            "Recall: 11.92%\n",
            "\n",
            "Feature: total_price_including_optional_support\n",
            "Precision: 48.20%\n",
            "Recall: 13.71%\n",
            "\n"
          ]
        }
      ]
    },
    {
      "cell_type": "markdown",
      "source": [
        "## Make Feature Precision and Recall Plot"
      ],
      "metadata": {
        "id": "DBVDRY1IVFvy"
      }
    },
    {
      "cell_type": "code",
      "source": [
        "def calc_prec_and_rec(trainList, validList, feature):\n",
        "  records_df = []\n",
        "  for i in range(3):\n",
        "    train_data, valid_data = trainList[i], validList[i]\n",
        "    for percentile in np.linspace(0, 1, num=51):\n",
        "      baseline, prec, rec = get_test_train_baseline_rate(train_data, valid_data, feature, per=percentile)\n",
        "      if percentile == 0.1:\n",
        "        print(f\"Split: {i}, P: {prec*100:.2f}%, R: {rec*100:.2f}%\")\n",
        "      # Add to Records\n",
        "      records_df.append(\n",
        "                dict(seed=i, percentile=percentile, value=rec, type=\"recall\")\n",
        "            )\n",
        "      records_df.append(\n",
        "                dict(seed=i, percentile=percentile, value=prec, type=\"precision\")\n",
        "            )\n",
        "  # Return Records Dataframe\n",
        "  records_df = pd.DataFrame.from_records(records_df)\n",
        "  records_df = records_df.fillna(1)\n",
        "  return records_df"
      ],
      "metadata": {
        "id": "8064uOgBVFE-"
      },
      "execution_count": 121,
      "outputs": []
    },
    {
      "cell_type": "code",
      "source": [
        "records_df = calc_prec_and_rec(trainList,validList,\"total_price_excluding_optional_support\")\n",
        "sns.relplot(data=records_df, x=\"percentile\", y=\"value\", hue=\"type\", kind=\"line\")"
      ],
      "metadata": {
        "colab": {
          "base_uri": "https://localhost:8080/",
          "height": 577
        },
        "id": "NPi74bxVXoQE",
        "outputId": "d44f78e3-e4b3-46c1-844f-0bf8115d0887"
      },
      "execution_count": 122,
      "outputs": [
        {
          "output_type": "stream",
          "name": "stdout",
          "text": [
            "Split: 0, P: 55.53%, R: 13.87%\n",
            "Split: 1, P: 59.62%, R: 11.81%\n",
            "Split: 2, P: 48.20%, R: 13.71%\n"
          ]
        },
        {
          "output_type": "execute_result",
          "data": {
            "text/plain": [
              "<seaborn.axisgrid.FacetGrid at 0x7f08d229eb50>"
            ]
          },
          "metadata": {},
          "execution_count": 122
        },
        {
          "output_type": "display_data",
          "data": {
            "text/plain": [
              "<Figure size 612.625x500 with 1 Axes>"
            ],
            "image/png": "[encoded data removed]"
          },
          "metadata": {}
        }
      ]
    },
    {
      "cell_type": "markdown",
      "source": [
        "## Make Model"
      ],
      "metadata": {
        "id": "Ok4ywtfEf1qj"
      }
    },
    {
      "cell_type": "markdown",
      "source": [
        "### Get Model Dataset"
      ],
      "metadata": {
        "id": "H-tcahfzqL78"
      }
    },
    {
      "cell_type": "code",
      "source": [
        "# Features\n",
        "num_features = [\"students_reached\",\"total_price_excluding_optional_support\",\"teacher_acctid_prev_avg\", \"schoolid_prev_avg\",\"school_zip_prev_avg\",\n",
        "                \"fraction_funded_after_5days\",\"fraction_funded_after_10days\",\"fraction_funded_after_15days\",\"fraction_funded_after_20days\",\n",
        "                \"fraction_funded_after_25days\",\"fraction_funded_after_30days\"]\n",
        "cat_features = [\"teacher_teach_for_america\",\"teacher_ny_teaching_fellow\", \"primary_focus_subject\",\"primary_focus_area\",\"school_nlns\", \"school_kipp\", \n",
        "                \"school_magnet\", \"school_charter\", \"resource_type\",\"poverty_level\"]\n",
        "flag_features = [\"primary_focus_subject_flag\",\"primary_focus_area_flag\",\"resource_type_flag\",\"poverty_level_flag\",\"students_reached_flag\"]\n",
        "split_features = [\"date_posted\"]\n",
        "features = num_features + cat_features + split_features# + flag_features\n",
        "# Y variables\n",
        "result = ['fully_funded']"
      ],
      "metadata": {
        "id": "oKop7rwRf5Xs"
      },
      "execution_count": 132,
      "outputs": []
    },
    {
      "cell_type": "code",
      "source": [
        "# Data Filtering:\n",
        "# I test dropping NaN data since there shouldn't be any left after filtering\n",
        "print(f\"Number of entries before filtering {len(resamp_tot_df)}\")\n",
        "data_df = resamp_tot_df[features+result]\n",
        "data_df = data_df.dropna()\n",
        "print(f\"Number of entries after filtering {len(resamp_tot_df)}\")"
      ],
      "metadata": {
        "colab": {
          "base_uri": "https://localhost:8080/"
        },
        "id": "AOa74YgDgI2i",
        "outputId": "d64b9504-f24e-4e50-d87a-650e093a12fb"
      },
      "execution_count": 133,
      "outputs": [
        {
          "output_type": "stream",
          "name": "stdout",
          "text": [
            "Number of entries before filtering 664090\n",
            "Number of entries after filtering 664090\n"
          ]
        }
      ]
    },
    {
      "cell_type": "code",
      "source": [
        "# Get X, Y\n",
        "data_dummy_df = pd.get_dummies(data_df,columns=cat_features)# + flag_features)"
      ],
      "metadata": {
        "id": "m4Cj-Er0gLzS"
      },
      "execution_count": 134,
      "outputs": []
    },
    {
      "cell_type": "code",
      "source": [
        "# Test Train Split\n",
        "trainModelList, validModelList = test_train_split(data_dummy_df,'date_posted',pd.Timedelta(360,\"d\"),pd.Timedelta(120,\"d\"),pd.Timedelta(480,\"d\"))"
      ],
      "metadata": {
        "id": "nyrO2TEqtri4",
        "colab": {
          "base_uri": "https://localhost:8080/"
        },
        "outputId": "19163896-2842-4b44-89f3-2c35e909f875"
      },
      "execution_count": 135,
      "outputs": [
        {
          "output_type": "stream",
          "name": "stdout",
          "text": [
            "Train Min Time: 2008-01-01 00:00:00, Max Time: 2008-12-25 00:00:00\n",
            "Train Min Label Time: 2008-04-30 00:00:00 + Max Label Time: 2009-04-24 00:00:00\n",
            "Valid Min Time: 2008-12-26 00:00:00, Max Time: 2009-04-24 00:00:00\n",
            "Valid Min Label Time: 2009-04-25 00:00:00 + Valid Label Time: 2009-08-22 00:00:00\n",
            "\n",
            "Train Min Time: 2009-04-25 00:00:00, Max Time: 2010-04-19 00:00:00\n",
            "Train Min Label Time: 2009-08-23 00:00:00 + Max Label Time: 2010-08-17 00:00:00\n",
            "Valid Min Time: 2010-04-20 00:00:00, Max Time: 2010-08-17 00:00:00\n",
            "Valid Min Label Time: 2010-08-18 00:00:00 + Valid Label Time: 2010-12-15 00:00:00\n",
            "\n",
            "Train Min Time: 2010-08-18 00:00:00, Max Time: 2011-08-12 00:00:00\n",
            "Train Min Label Time: 2010-12-16 00:00:00 + Max Label Time: 2011-12-10 00:00:00\n",
            "Valid Min Time: 2011-08-13 00:00:00, Max Time: 2011-12-10 00:00:00\n",
            "Valid Min Label Time: 2011-12-11 00:00:00 + Valid Label Time: 2012-04-08 00:00:00\n",
            "\n"
          ]
        }
      ]
    },
    {
      "cell_type": "markdown",
      "source": [
        "### Train Model"
      ],
      "metadata": {
        "id": "jRdSGjGZqOaQ"
      }
    },
    {
      "cell_type": "code",
      "source": [
        "def train_model(clf,trainModelList,validModelList):\n",
        "  new_train_list, new_model_list = [], []\n",
        "  for i in range(3):\n",
        "    # Get Data\n",
        "    train_data, valid_data = trainModelList[i], validModelList[i]\n",
        "    X_train, y_train = train_data.drop(['fully_funded','date_posted'], axis=1), train_data['fully_funded']\n",
        "    X_test, y_test = valid_data.drop(['fully_funded','date_posted'], axis=1), valid_data['fully_funded']\n",
        "    clf.fit(X_train,y_train)\n",
        "    # Add Probaility Columns\n",
        "    train_data, valid_data = train_data.copy(), valid_data.copy()\n",
        "    train_data['prob'] = clf.predict_proba(X_train)[:, 0]\n",
        "    valid_data['prob'] = clf.predict_proba(X_test)[:, 0]\n",
        "    new_train_list.append(train_data)\n",
        "    new_model_list.append(valid_data)\n",
        "  #Now Get Prec vs Recall Dataframe\n",
        "  return calc_prec_and_rec(new_train_list,new_model_list,\"prob\")"
      ],
      "metadata": {
        "id": "khiHrZfmqQ3G"
      },
      "execution_count": 136,
      "outputs": []
    },
    {
      "cell_type": "code",
      "source": [
        "clf = LogisticRegression(random_state=0, max_iter=1000,C=1)\n",
        "records_df = train_model(clf,trainModelList, validModelList)\n",
        "sns.relplot(data=records_df, x=\"percentile\", y=\"value\", hue=\"type\", kind=\"line\")"
      ],
      "metadata": {
        "colab": {
          "base_uri": "https://localhost:8080/",
          "height": 440
        },
        "id": "_FvLY5P2gjXB",
        "outputId": "3b23cc3d-666b-4e55-f871-0f491fa22d4e"
      },
      "execution_count": null,
      "outputs": [
        {
          "output_type": "stream",
          "name": "stdout",
          "text": [
            "Split: 0, P: 87.89%, R: 15.66%\n",
            "Split: 1, P: 75.20%, R: 15.26%\n",
            "Split: 2, P: 73.05%, R: 18.13%\n"
          ]
        },
        {
          "output_type": "execute_result",
          "data": {
            "text/plain": [
              "<seaborn.axisgrid.FacetGrid at 0x7f9d19d23e50>"
            ]
          },
          "metadata": {},
          "execution_count": 60
        },
        {
          "output_type": "display_data",
          "data": {
            "text/plain": [
              "<Figure size 441.125x360 with 1 Axes>"
            ],
            "image/png": "[encoded data removed]"
          },
          "metadata": {
            "needs_background": "light"
          }
        }
      ]
    },
    {
      "cell_type": "code",
      "source": [
        "clf = RandomForestClassifier(max_depth=16,n_estimators=500)\n",
        "records_df = train_model(clf,trainModelList, validModelList)\n",
        "sns.relplot(data=records_df, x=\"percentile\", y=\"value\", hue=\"type\", kind=\"line\")"
      ],
      "metadata": {
        "id": "xC0TMh6huSQL",
        "colab": {
          "base_uri": "https://localhost:8080/",
          "height": 440
        },
        "outputId": "36ce4959-b92d-41b1-93dd-6c576be986e2"
      },
      "execution_count": null,
      "outputs": [
        {
          "output_type": "stream",
          "name": "stdout",
          "text": [
            "Split: 0, P: 90.93%, R: 11.41%\n",
            "Split: 1, P: 77.40%, R: 13.37%\n",
            "Split: 2, P: 76.65%, R: 15.75%\n"
          ]
        },
        {
          "output_type": "execute_result",
          "data": {
            "text/plain": [
              "<seaborn.axisgrid.FacetGrid at 0x7f9d198b1e20>"
            ]
          },
          "metadata": {},
          "execution_count": 67
        },
        {
          "output_type": "display_data",
          "data": {
            "text/plain": [
              "<Figure size 441.125x360 with 1 Axes>"
            ],
            "image/png": "[encoded data removed]"
          },
          "metadata": {
            "needs_background": "light"
          }
        }
      ]
    },
    {
      "cell_type": "code",
      "source": [
        "clf = XGBClassifier(n_estimators=100,max_depth=8)\n",
        "records_df = train_model(clf,trainModelList, validModelList)\n",
        "sns.relplot(data=records_df, x=\"percentile\", y=\"value\", hue=\"type\", kind=\"line\")"
      ],
      "metadata": {
        "colab": {
          "base_uri": "https://localhost:8080/",
          "height": 440
        },
        "id": "GU7CPmZ2VXvp",
        "outputId": "35d41547-bd19-46a3-fe4b-c76102e1d833"
      },
      "execution_count": null,
      "outputs": [
        {
          "output_type": "stream",
          "name": "stdout",
          "text": [
            "Split: 0, P: 92.42%, R: 13.08%\n",
            "Split: 1, P: 79.24%, R: 16.13%\n",
            "Split: 2, P: 76.53%, R: 18.39%\n"
          ]
        },
        {
          "output_type": "execute_result",
          "data": {
            "text/plain": [
              "<seaborn.axisgrid.FacetGrid at 0x7fcf5c9c07c0>"
            ]
          },
          "metadata": {},
          "execution_count": 46
        },
        {
          "output_type": "display_data",
          "data": {
            "text/plain": [
              "<Figure size 441.125x360 with 1 Axes>"
            ],
            "image/png": "[encoded data removed]"
          },
          "metadata": {
            "needs_background": "light"
          }
        }
      ]
    },
    {
      "cell_type": "markdown",
      "source": [
        "# Plot Precision @ 10 Over Eval Start Time"
      ],
      "metadata": {
        "id": "ZcrQxJ9fJSh5"
      }
    },
    {
      "cell_type": "code",
      "source": [
        "trainListPlot, validListPlot = test_train_split(data_dummy_df,'date_posted',pd.Timedelta(360,\"d\"),pd.Timedelta(120,\"d\"),pd.Timedelta(120,\"d\"),n_of_splits=22,startdate = \"2006-01-01\")"
      ],
      "metadata": {
        "colab": {
          "base_uri": "https://localhost:8080/"
        },
        "id": "JPAoICUrLmvV",
        "outputId": "86b9df3c-9124-4105-8897-34d30d8206d7"
      },
      "execution_count": 137,
      "outputs": [
        {
          "output_type": "stream",
          "name": "stdout",
          "text": [
            "Train Min Time: 2006-01-01 00:00:00, Max Time: 2006-12-26 00:00:00\n",
            "Train Min Label Time: 2006-05-01 00:00:00 + Max Label Time: 2007-04-25 00:00:00\n",
            "Valid Min Time: 2006-12-27 00:00:00, Max Time: 2007-04-25 00:00:00\n",
            "Valid Min Label Time: 2007-04-26 00:00:00 + Valid Label Time: 2007-08-23 00:00:00\n",
            "\n",
            "Train Min Time: 2006-05-01 00:00:00, Max Time: 2007-04-25 00:00:00\n",
            "Train Min Label Time: 2006-08-29 00:00:00 + Max Label Time: 2007-08-23 00:00:00\n",
            "Valid Min Time: 2007-04-26 00:00:00, Max Time: 2007-08-23 00:00:00\n",
            "Valid Min Label Time: 2007-08-24 00:00:00 + Valid Label Time: 2007-12-21 00:00:00\n",
            "\n",
            "Train Min Time: 2006-08-29 00:00:00, Max Time: 2007-08-23 00:00:00\n",
            "Train Min Label Time: 2006-12-27 00:00:00 + Max Label Time: 2007-12-21 00:00:00\n",
            "Valid Min Time: 2007-08-24 00:00:00, Max Time: 2007-12-21 00:00:00\n",
            "Valid Min Label Time: 2007-12-22 00:00:00 + Valid Label Time: 2008-04-19 00:00:00\n",
            "\n",
            "Train Min Time: 2006-12-27 00:00:00, Max Time: 2007-12-21 00:00:00\n",
            "Train Min Label Time: 2007-04-26 00:00:00 + Max Label Time: 2008-04-19 00:00:00\n",
            "Valid Min Time: 2007-12-22 00:00:00, Max Time: 2008-04-19 00:00:00\n",
            "Valid Min Label Time: 2008-04-20 00:00:00 + Valid Label Time: 2008-08-17 00:00:00\n",
            "\n",
            "Train Min Time: 2007-04-26 00:00:00, Max Time: 2008-04-19 00:00:00\n",
            "Train Min Label Time: 2007-08-24 00:00:00 + Max Label Time: 2008-08-17 00:00:00\n",
            "Valid Min Time: 2008-04-20 00:00:00, Max Time: 2008-08-17 00:00:00\n",
            "Valid Min Label Time: 2008-08-18 00:00:00 + Valid Label Time: 2008-12-15 00:00:00\n",
            "\n",
            "Train Min Time: 2007-08-24 00:00:00, Max Time: 2008-08-17 00:00:00\n",
            "Train Min Label Time: 2007-12-22 00:00:00 + Max Label Time: 2008-12-15 00:00:00\n",
            "Valid Min Time: 2008-08-18 00:00:00, Max Time: 2008-12-15 00:00:00\n",
            "Valid Min Label Time: 2008-12-16 00:00:00 + Valid Label Time: 2009-04-14 00:00:00\n",
            "\n",
            "Train Min Time: 2007-12-22 00:00:00, Max Time: 2008-12-15 00:00:00\n",
            "Train Min Label Time: 2008-04-20 00:00:00 + Max Label Time: 2009-04-14 00:00:00\n",
            "Valid Min Time: 2008-12-16 00:00:00, Max Time: 2009-04-14 00:00:00\n",
            "Valid Min Label Time: 2009-04-15 00:00:00 + Valid Label Time: 2009-08-12 00:00:00\n",
            "\n",
            "Train Min Time: 2008-04-20 00:00:00, Max Time: 2009-04-14 00:00:00\n",
            "Train Min Label Time: 2008-08-18 00:00:00 + Max Label Time: 2009-08-12 00:00:00\n",
            "Valid Min Time: 2009-04-15 00:00:00, Max Time: 2009-08-12 00:00:00\n",
            "Valid Min Label Time: 2009-08-13 00:00:00 + Valid Label Time: 2009-12-10 00:00:00\n",
            "\n",
            "Train Min Time: 2008-08-18 00:00:00, Max Time: 2009-08-12 00:00:00\n",
            "Train Min Label Time: 2008-12-16 00:00:00 + Max Label Time: 2009-12-10 00:00:00\n",
            "Valid Min Time: 2009-08-13 00:00:00, Max Time: 2009-12-10 00:00:00\n",
            "Valid Min Label Time: 2009-12-11 00:00:00 + Valid Label Time: 2010-04-09 00:00:00\n",
            "\n",
            "Train Min Time: 2008-12-16 00:00:00, Max Time: 2009-12-10 00:00:00\n",
            "Train Min Label Time: 2009-04-15 00:00:00 + Max Label Time: 2010-04-09 00:00:00\n",
            "Valid Min Time: 2009-12-11 00:00:00, Max Time: 2010-04-09 00:00:00\n",
            "Valid Min Label Time: 2010-04-10 00:00:00 + Valid Label Time: 2010-08-07 00:00:00\n",
            "\n",
            "Train Min Time: 2009-04-15 00:00:00, Max Time: 2010-04-09 00:00:00\n",
            "Train Min Label Time: 2009-08-13 00:00:00 + Max Label Time: 2010-08-07 00:00:00\n",
            "Valid Min Time: 2010-04-10 00:00:00, Max Time: 2010-08-07 00:00:00\n",
            "Valid Min Label Time: 2010-08-08 00:00:00 + Valid Label Time: 2010-12-05 00:00:00\n",
            "\n",
            "Train Min Time: 2009-08-13 00:00:00, Max Time: 2010-08-07 00:00:00\n",
            "Train Min Label Time: 2009-12-11 00:00:00 + Max Label Time: 2010-12-05 00:00:00\n",
            "Valid Min Time: 2010-08-08 00:00:00, Max Time: 2010-12-05 00:00:00\n",
            "Valid Min Label Time: 2010-12-06 00:00:00 + Valid Label Time: 2011-04-04 00:00:00\n",
            "\n",
            "Train Min Time: 2009-12-11 00:00:00, Max Time: 2010-12-05 00:00:00\n",
            "Train Min Label Time: 2010-04-10 00:00:00 + Max Label Time: 2011-04-04 00:00:00\n",
            "Valid Min Time: 2010-12-06 00:00:00, Max Time: 2011-04-04 00:00:00\n",
            "Valid Min Label Time: 2011-04-05 00:00:00 + Valid Label Time: 2011-08-02 00:00:00\n",
            "\n",
            "Train Min Time: 2010-04-10 00:00:00, Max Time: 2011-04-04 00:00:00\n",
            "Train Min Label Time: 2010-08-08 00:00:00 + Max Label Time: 2011-08-02 00:00:00\n",
            "Valid Min Time: 2011-04-05 00:00:00, Max Time: 2011-08-02 00:00:00\n",
            "Valid Min Label Time: 2011-08-03 00:00:00 + Valid Label Time: 2011-11-30 00:00:00\n",
            "\n",
            "Train Min Time: 2010-08-08 00:00:00, Max Time: 2011-08-02 00:00:00\n",
            "Train Min Label Time: 2010-12-06 00:00:00 + Max Label Time: 2011-11-30 00:00:00\n",
            "Valid Min Time: 2011-08-03 00:00:00, Max Time: 2011-11-30 00:00:00\n",
            "Valid Min Label Time: 2011-12-01 00:00:00 + Valid Label Time: 2012-03-29 00:00:00\n",
            "\n",
            "Train Min Time: 2010-12-06 00:00:00, Max Time: 2011-11-30 00:00:00\n",
            "Train Min Label Time: 2011-04-05 00:00:00 + Max Label Time: 2012-03-29 00:00:00\n",
            "Valid Min Time: 2011-12-01 00:00:00, Max Time: 2012-03-29 00:00:00\n",
            "Valid Min Label Time: 2012-03-30 00:00:00 + Valid Label Time: 2012-07-27 00:00:00\n",
            "\n",
            "Train Min Time: 2011-04-05 00:00:00, Max Time: 2012-03-29 00:00:00\n",
            "Train Min Label Time: 2011-08-03 00:00:00 + Max Label Time: 2012-07-27 00:00:00\n",
            "Valid Min Time: 2012-03-30 00:00:00, Max Time: 2012-07-27 00:00:00\n",
            "Valid Min Label Time: 2012-07-28 00:00:00 + Valid Label Time: 2012-11-24 00:00:00\n",
            "\n",
            "Train Min Time: 2011-08-03 00:00:00, Max Time: 2012-07-27 00:00:00\n",
            "Train Min Label Time: 2011-12-01 00:00:00 + Max Label Time: 2012-11-24 00:00:00\n",
            "Valid Min Time: 2012-07-28 00:00:00, Max Time: 2012-11-24 00:00:00\n",
            "Valid Min Label Time: 2012-11-25 00:00:00 + Valid Label Time: 2013-03-24 00:00:00\n",
            "\n",
            "Train Min Time: 2011-12-01 00:00:00, Max Time: 2012-11-24 00:00:00\n",
            "Train Min Label Time: 2012-03-30 00:00:00 + Max Label Time: 2013-03-24 00:00:00\n",
            "Valid Min Time: 2012-11-25 00:00:00, Max Time: 2013-03-24 00:00:00\n",
            "Valid Min Label Time: 2013-03-25 00:00:00 + Valid Label Time: 2013-07-22 00:00:00\n",
            "\n",
            "Train Min Time: 2012-03-30 00:00:00, Max Time: 2013-03-24 00:00:00\n",
            "Train Min Label Time: 2012-07-28 00:00:00 + Max Label Time: 2013-07-22 00:00:00\n",
            "Valid Min Time: 2013-03-25 00:00:00, Max Time: 2013-07-22 00:00:00\n",
            "Valid Min Label Time: 2013-07-23 00:00:00 + Valid Label Time: 2013-11-19 00:00:00\n",
            "\n",
            "Train Min Time: 2012-07-28 00:00:00, Max Time: 2013-07-22 00:00:00\n",
            "Train Min Label Time: 2012-11-25 00:00:00 + Max Label Time: 2013-11-19 00:00:00\n",
            "Valid Min Time: 2013-07-23 00:00:00, Max Time: 2013-11-19 00:00:00\n",
            "Valid Min Label Time: 2013-11-20 00:00:00 + Valid Label Time: 2014-03-19 00:00:00\n",
            "\n",
            "Train Min Time: 2012-11-25 00:00:00, Max Time: 2013-11-19 00:00:00\n",
            "Train Min Label Time: 2013-03-25 00:00:00 + Max Label Time: 2014-03-19 00:00:00\n",
            "Valid Min Time: 2013-11-20 00:00:00, Max Time: 2014-03-19 00:00:00\n",
            "Valid Min Label Time: 2014-03-20 00:00:00 + Valid Label Time: 2014-07-17 00:00:00\n",
            "\n"
          ]
        }
      ]
    },
    {
      "cell_type": "code",
      "source": [
        "def make_plot(models,trainModelList,validModelList):\n",
        "  start_date = []\n",
        "  model_dict = {}\n",
        "  for i in tqdm(range(len(trainModelList))):\n",
        "    # Get Data\n",
        "    train_data, valid_data = trainModelList[i], validModelList[i]\n",
        "    start_date.append(valid_data['date_posted'].min())\n",
        "    X_train, y_train = train_data.drop(['fully_funded','date_posted'], axis=1), train_data['fully_funded']\n",
        "    X_test, y_test = valid_data.drop(['fully_funded','date_posted'], axis=1), valid_data['fully_funded']\n",
        "    # Go Through\n",
        "    for name, clf in models:\n",
        "      # Check Dictionary\n",
        "      if name not in model_dict: model_dict[name] = []\n",
        "      # Than get precision\n",
        "      if name == \"base_rate\":\n",
        "        prec = 1 - valid_data[\"fully_funded\"].mean()\n",
        "      elif name == \"commonsense\":\n",
        "        _, prec, _ = get_test_train_baseline_rate(train_data, valid_data, clf, per=0.1)\n",
        "      else: # Train Model and get precision\n",
        "        clf.fit(X_train,y_train)\n",
        "        print(f\"\\nFinished Fitting: {name}\")\n",
        "        train_data, valid_data = train_data.copy(), valid_data.copy()\n",
        "        train_data['prob'] = clf.predict_proba(X_train)[:, 0]\n",
        "        valid_data['prob'] = clf.predict_proba(X_test)[:, 0]\n",
        "        _, prec, _ = get_test_train_baseline_rate(train_data, valid_data, \"prob\", per=0.1)\n",
        "      # Add to Dictionary\n",
        "      model_dict[name].append(prec)\n",
        "\n",
        "  # Now Plot Information\n",
        "  for name, _ in models:\n",
        "    y = model_dict[name]\n",
        "    x = start_date\n",
        "    plt.plot(x, y, label=name)\n",
        "\n",
        "  # Plot the graph\n",
        "  plt.ylabel(\"precision @ 10%\")\n",
        "  plt.xlabel(\"Eval. time start\")\n",
        "  plt.legend(bbox_to_anchor=(1.05, 1.0), loc='upper left')\n",
        "  plt.title(\"Precision @ 10% vs. Eval start time\")\n",
        "  plt.xticks(rotation=45)\n",
        "  plt.show()\n",
        "\n",
        "  # Now Get Prec vs Recall Dataframe\n",
        "  return"
      ],
      "metadata": {
        "id": "dy-ckhwILn4-"
      },
      "execution_count": 138,
      "outputs": []
    },
    {
      "cell_type": "markdown",
      "source": [
        "## Make Top Model Plot"
      ],
      "metadata": {
        "id": "3uTDnFb9rOfJ"
      }
    },
    {
      "cell_type": "code",
      "source": [
        "models = [(\"base_rate\",\"\"), (\"commonsense\",\"total_price_excluding_optional_support\"),\n",
        "          (\"logistic_regression\",LogisticRegression(random_state=0, max_iter=1000,C=1)), \n",
        "          (\"random_forest\",RandomForestClassifier(max_depth=16,n_estimators=500)),\n",
        "          (\"xgboost\",XGBClassifier(n_estimators=100,max_depth=8))]"
      ],
      "metadata": {
        "id": "v2-vgDuGJQIw"
      },
      "execution_count": 139,
      "outputs": []
    },
    {
      "cell_type": "code",
      "source": [
        "make_plot(models,trainListPlot,validListPlot)"
      ],
      "metadata": {
        "id": "6ZUSrVHOuX02",
        "colab": {
          "base_uri": "https://localhost:8080/"
        },
        "outputId": "1ab5c607-f297-42c6-b169-179ae1a7b66d"
      },
      "execution_count": null,
      "outputs": [
        {
          "output_type": "stream",
          "name": "stderr",
          "text": [
            "\r  0%|          | 0/22 [00:00<?, ?it/s]"
          ]
        },
        {
          "output_type": "stream",
          "name": "stdout",
          "text": [
            "\n",
            "Finished Fitting: logistic_regression\n",
            "\n",
            "Finished Fitting: random_forest\n"
          ]
        },
        {
          "output_type": "stream",
          "name": "stderr",
          "text": [
            "\r  5%|▍         | 1/22 [00:27<09:27, 27.03s/it]"
          ]
        },
        {
          "output_type": "stream",
          "name": "stdout",
          "text": [
            "\n",
            "Finished Fitting: xgboost\n",
            "\n",
            "Finished Fitting: logistic_regression\n",
            "\n",
            "Finished Fitting: random_forest\n"
          ]
        },
        {
          "output_type": "stream",
          "name": "stderr",
          "text": [
            "\r  9%|▉         | 2/22 [00:59<10:06, 30.35s/it]"
          ]
        },
        {
          "output_type": "stream",
          "name": "stdout",
          "text": [
            "\n",
            "Finished Fitting: xgboost\n",
            "\n",
            "Finished Fitting: logistic_regression\n",
            "\n",
            "Finished Fitting: random_forest\n"
          ]
        },
        {
          "output_type": "stream",
          "name": "stderr",
          "text": [
            "\r 14%|█▎        | 3/22 [01:34<10:13, 32.29s/it]"
          ]
        },
        {
          "output_type": "stream",
          "name": "stdout",
          "text": [
            "\n",
            "Finished Fitting: xgboost\n",
            "\n",
            "Finished Fitting: logistic_regression\n",
            "\n",
            "Finished Fitting: random_forest\n",
            "\n",
            "Finished Fitting: xgboost\n"
          ]
        },
        {
          "output_type": "stream",
          "name": "stderr",
          "text": [
            "\r 18%|█▊        | 4/22 [02:17<10:59, 36.61s/it]"
          ]
        },
        {
          "output_type": "stream",
          "name": "stdout",
          "text": [
            "\n",
            "Finished Fitting: logistic_regression\n",
            "\n",
            "Finished Fitting: random_forest\n",
            "\n",
            "Finished Fitting: xgboost\n"
          ]
        },
        {
          "output_type": "stream",
          "name": "stderr",
          "text": [
            "\r 23%|██▎       | 5/22 [03:20<13:06, 46.24s/it]"
          ]
        },
        {
          "output_type": "stream",
          "name": "stdout",
          "text": [
            "\n",
            "Finished Fitting: logistic_regression\n",
            "\n",
            "Finished Fitting: random_forest\n",
            "\n",
            "Finished Fitting: xgboost\n"
          ]
        },
        {
          "output_type": "stream",
          "name": "stderr",
          "text": [
            "\r 27%|██▋       | 6/22 [04:30<14:28, 54.31s/it]"
          ]
        },
        {
          "output_type": "stream",
          "name": "stdout",
          "text": [
            "\n",
            "Finished Fitting: logistic_regression\n",
            "\n",
            "Finished Fitting: random_forest\n",
            "\n",
            "Finished Fitting: xgboost\n"
          ]
        },
        {
          "output_type": "stream",
          "name": "stderr",
          "text": [
            "\r 32%|███▏      | 7/22 [05:36<14:28, 57.91s/it]"
          ]
        },
        {
          "output_type": "stream",
          "name": "stdout",
          "text": [
            "\n",
            "Finished Fitting: logistic_regression\n",
            "\n",
            "Finished Fitting: random_forest\n",
            "\n",
            "Finished Fitting: xgboost\n"
          ]
        },
        {
          "output_type": "stream",
          "name": "stderr",
          "text": [
            "\r 36%|███▋      | 8/22 [06:43<14:12, 60.91s/it]/usr/local/lib/python3.9/dist-packages/sklearn/linear_model/_logistic.py:458: ConvergenceWarning: lbfgs failed to converge (status=1):\n",
            "STOP: TOTAL NO. of ITERATIONS REACHED LIMIT.\n",
            "\n",
            "Increase the number of iterations (max_iter) or scale the data as shown in:\n",
            "    https://scikit-learn.org/stable/modules/preprocessing.html\n",
            "Please also refer to the documentation for alternative solver options:\n",
            "    https://scikit-learn.org/stable/modules/linear_model.html#logistic-regression\n",
            "  n_iter_i = _check_optimize_result(\n"
          ]
        },
        {
          "output_type": "stream",
          "name": "stdout",
          "text": [
            "\n",
            "Finished Fitting: logistic_regression\n",
            "\n",
            "Finished Fitting: random_forest\n",
            "\n",
            "Finished Fitting: xgboost\n"
          ]
        },
        {
          "output_type": "stream",
          "name": "stderr",
          "text": [
            "\r 41%|████      | 9/22 [08:04<14:32, 67.10s/it]"
          ]
        },
        {
          "output_type": "stream",
          "name": "stdout",
          "text": [
            "\n",
            "Finished Fitting: logistic_regression\n",
            "\n",
            "Finished Fitting: random_forest\n",
            "\n",
            "Finished Fitting: xgboost\n"
          ]
        },
        {
          "output_type": "stream",
          "name": "stderr",
          "text": [
            "\r 45%|████▌     | 10/22 [09:44<15:26, 77.20s/it]"
          ]
        },
        {
          "output_type": "stream",
          "name": "stdout",
          "text": [
            "\n",
            "Finished Fitting: logistic_regression\n",
            "\n",
            "Finished Fitting: random_forest\n",
            "\n",
            "Finished Fitting: xgboost\n"
          ]
        },
        {
          "output_type": "stream",
          "name": "stderr",
          "text": [
            "\r 50%|█████     | 11/22 [11:21<15:17, 83.42s/it]"
          ]
        },
        {
          "output_type": "stream",
          "name": "stdout",
          "text": [
            "\n",
            "Finished Fitting: logistic_regression\n",
            "\n",
            "Finished Fitting: random_forest\n",
            "\n",
            "Finished Fitting: xgboost\n"
          ]
        },
        {
          "output_type": "stream",
          "name": "stderr",
          "text": [
            "\r 55%|█████▍    | 12/22 [13:12<15:19, 91.91s/it]"
          ]
        },
        {
          "output_type": "stream",
          "name": "stdout",
          "text": [
            "\n",
            "Finished Fitting: logistic_regression\n",
            "\n",
            "Finished Fitting: random_forest\n",
            "\n",
            "Finished Fitting: xgboost\n"
          ]
        },
        {
          "output_type": "stream",
          "name": "stderr",
          "text": [
            "\r 59%|█████▉    | 13/22 [15:26<15:41, 104.60s/it]"
          ]
        },
        {
          "output_type": "stream",
          "name": "stdout",
          "text": [
            "\n",
            "Finished Fitting: logistic_regression\n",
            "\n",
            "Finished Fitting: random_forest\n",
            "\n",
            "Finished Fitting: xgboost\n"
          ]
        },
        {
          "output_type": "stream",
          "name": "stderr",
          "text": [
            "\r 64%|██████▎   | 14/22 [18:12<16:25, 123.23s/it]"
          ]
        },
        {
          "output_type": "stream",
          "name": "stdout",
          "text": [
            "\n",
            "Finished Fitting: logistic_regression\n",
            "\n",
            "Finished Fitting: random_forest\n",
            "\n",
            "Finished Fitting: xgboost\n"
          ]
        },
        {
          "output_type": "stream",
          "name": "stderr",
          "text": [
            "\r 68%|██████▊   | 15/22 [21:23<16:44, 143.44s/it]"
          ]
        },
        {
          "output_type": "stream",
          "name": "stdout",
          "text": [
            "\n",
            "Finished Fitting: logistic_regression\n",
            "\n",
            "Finished Fitting: random_forest\n",
            "\n",
            "Finished Fitting: xgboost\n"
          ]
        },
        {
          "output_type": "stream",
          "name": "stderr",
          "text": [
            "\r 73%|███████▎  | 16/22 [24:34<15:46, 157.71s/it]"
          ]
        },
        {
          "output_type": "stream",
          "name": "stdout",
          "text": [
            "\n",
            "Finished Fitting: logistic_regression\n",
            "\n",
            "Finished Fitting: random_forest\n",
            "\n",
            "Finished Fitting: xgboost\n"
          ]
        },
        {
          "output_type": "stream",
          "name": "stderr",
          "text": [
            "\r 77%|███████▋  | 17/22 [27:50<14:07, 169.41s/it]"
          ]
        },
        {
          "output_type": "stream",
          "name": "stdout",
          "text": [
            "\n",
            "Finished Fitting: logistic_regression\n",
            "\n",
            "Finished Fitting: random_forest\n",
            "\n",
            "Finished Fitting: xgboost\n"
          ]
        },
        {
          "output_type": "stream",
          "name": "stderr",
          "text": [
            "\r 82%|████████▏ | 18/22 [31:12<11:57, 179.27s/it]"
          ]
        },
        {
          "output_type": "stream",
          "name": "stdout",
          "text": [
            "\n",
            "Finished Fitting: logistic_regression\n",
            "\n",
            "Finished Fitting: random_forest\n",
            "\n",
            "Finished Fitting: xgboost\n"
          ]
        },
        {
          "output_type": "stream",
          "name": "stderr",
          "text": [
            "\r 86%|████████▋ | 19/22 [34:32<09:16, 185.36s/it]"
          ]
        },
        {
          "output_type": "stream",
          "name": "stdout",
          "text": [
            "\n",
            "Finished Fitting: logistic_regression\n",
            "\n",
            "Finished Fitting: random_forest\n",
            "\n",
            "Finished Fitting: xgboost\n"
          ]
        },
        {
          "output_type": "stream",
          "name": "stderr",
          "text": [
            "\r 91%|█████████ | 20/22 [37:39<06:11, 185.78s/it]"
          ]
        },
        {
          "output_type": "stream",
          "name": "stdout",
          "text": [
            "\n",
            "Finished Fitting: logistic_regression\n",
            "\n",
            "Finished Fitting: random_forest\n"
          ]
        }
      ]
    },
    {
      "cell_type": "markdown",
      "source": [
        "## Make Conglomeration Plot"
      ],
      "metadata": {
        "id": "5e6Z55FurqiV"
      }
    },
    {
      "cell_type": "code",
      "source": [
        "models = [(\"base_rate\",\"\"), (\"commonsense\",\"total_price_excluding_optional_support\")]\n",
        "\n",
        "# Add Logistic Regression Models\n",
        "for c in [0.25,0.5,1,2,4]:\n",
        "  models.append((f\"logistic_regression_c_{c}\",LogisticRegression(random_state=0, max_iter=1000,C=c)))\n",
        "\n",
        "# Add Random Forest Models\n",
        "for depth in [8,12,16]:\n",
        "  for n_estim in [100,300,500]:\n",
        "    models.append((f\"random_forest_dpth_{depth}_estim_{n_estim}\",RandomForestClassifier(max_depth=depth,n_estimators=n_estim)))\n",
        "\n",
        "# Add XGBoost Models\n",
        "for depth in [6,8,10]:\n",
        "  for n_estim in [100,300,500]:\n",
        "    models.append((f\"xgboost_dpth_{depth}_estim_{n_estim}\",XGBClassifier(n_estimators=n_estim,max_depth=depth)))"
      ],
      "metadata": {
        "id": "va_XNApWUiVC"
      },
      "execution_count": null,
      "outputs": []
    },
    {
      "cell_type": "code",
      "source": [
        "make_plot(models,trainListPlot,validListPlot)"
      ],
      "metadata": {
        "colab": {
          "base_uri": "https://localhost:8080/",
          "height": 1000
        },
        "id": "XmcXxb_pruMT",
        "outputId": "e5d56c7b-9e3b-4d58-fcdb-b93ca24899b5"
      },
      "execution_count": null,
      "outputs": [
        {
          "output_type": "stream",
          "name": "stderr",
          "text": [
            "\r  0%|          | 0/22 [00:00<?, ?it/s]"
          ]
        },
        {
          "output_type": "stream",
          "name": "stdout",
          "text": [
            "\n",
            "Finished Fitting: logistic_regression_c_0.25\n",
            "\n",
            "Finished Fitting: logistic_regression_c_0.5\n",
            "\n",
            "Finished Fitting: logistic_regression_c_1\n",
            "\n",
            "Finished Fitting: logistic_regression_c_2\n",
            "\n",
            "Finished Fitting: logistic_regression_c_4\n",
            "\n",
            "Finished Fitting: random_forest_dpth_8_estim_100\n",
            "\n",
            "Finished Fitting: random_forest_dpth_8_estim_300\n",
            "\n",
            "Finished Fitting: random_forest_dpth_8_estim_500\n",
            "\n",
            "Finished Fitting: random_forest_dpth_12_estim_100\n",
            "\n",
            "Finished Fitting: random_forest_dpth_12_estim_300\n",
            "\n",
            "Finished Fitting: random_forest_dpth_12_estim_500\n",
            "\n",
            "Finished Fitting: random_forest_dpth_16_estim_100\n",
            "\n",
            "Finished Fitting: random_forest_dpth_16_estim_300\n",
            "\n",
            "Finished Fitting: random_forest_dpth_16_estim_500\n",
            "\n",
            "Finished Fitting: xgboost_dpth_6_estim_100\n",
            "\n",
            "Finished Fitting: xgboost_dpth_6_estim_300\n",
            "\n",
            "Finished Fitting: xgboost_dpth_6_estim_500\n",
            "\n",
            "Finished Fitting: xgboost_dpth_8_estim_100\n",
            "\n",
            "Finished Fitting: xgboost_dpth_8_estim_300\n",
            "\n",
            "Finished Fitting: xgboost_dpth_8_estim_500\n",
            "\n",
            "Finished Fitting: xgboost_dpth_10_estim_100\n",
            "\n",
            "Finished Fitting: xgboost_dpth_10_estim_300\n",
            "\n",
            "Finished Fitting: xgboost_dpth_10_estim_500\n"
          ]
        },
        {
          "output_type": "stream",
          "name": "stderr",
          "text": [
            "\r  5%|▍         | 1/22 [04:21<1:31:33, 261.60s/it]"
          ]
        },
        {
          "output_type": "stream",
          "name": "stdout",
          "text": [
            "\n",
            "Finished Fitting: logistic_regression_c_0.25\n",
            "\n",
            "Finished Fitting: logistic_regression_c_0.5\n",
            "\n",
            "Finished Fitting: logistic_regression_c_1\n",
            "\n",
            "Finished Fitting: logistic_regression_c_2\n",
            "\n",
            "Finished Fitting: logistic_regression_c_4\n",
            "\n",
            "Finished Fitting: random_forest_dpth_8_estim_100\n",
            "\n",
            "Finished Fitting: random_forest_dpth_8_estim_300\n",
            "\n",
            "Finished Fitting: random_forest_dpth_8_estim_500\n",
            "\n",
            "Finished Fitting: random_forest_dpth_12_estim_100\n",
            "\n",
            "Finished Fitting: random_forest_dpth_12_estim_300\n",
            "\n",
            "Finished Fitting: random_forest_dpth_12_estim_500\n",
            "\n",
            "Finished Fitting: random_forest_dpth_16_estim_100\n",
            "\n",
            "Finished Fitting: random_forest_dpth_16_estim_300\n",
            "\n",
            "Finished Fitting: random_forest_dpth_16_estim_500\n",
            "\n",
            "Finished Fitting: xgboost_dpth_6_estim_100\n",
            "\n",
            "Finished Fitting: xgboost_dpth_6_estim_300\n",
            "\n",
            "Finished Fitting: xgboost_dpth_6_estim_500\n",
            "\n",
            "Finished Fitting: xgboost_dpth_8_estim_100\n",
            "\n",
            "Finished Fitting: xgboost_dpth_8_estim_300\n",
            "\n",
            "Finished Fitting: xgboost_dpth_8_estim_500\n",
            "\n",
            "Finished Fitting: xgboost_dpth_10_estim_100\n",
            "\n",
            "Finished Fitting: xgboost_dpth_10_estim_300\n",
            "\n",
            "Finished Fitting: xgboost_dpth_10_estim_500\n"
          ]
        },
        {
          "output_type": "stream",
          "name": "stderr",
          "text": [
            "\r  9%|▉         | 2/22 [08:57<1:30:05, 270.28s/it]"
          ]
        },
        {
          "output_type": "stream",
          "name": "stdout",
          "text": [
            "\n",
            "Finished Fitting: logistic_regression_c_0.25\n",
            "\n",
            "Finished Fitting: logistic_regression_c_0.5\n",
            "\n",
            "Finished Fitting: logistic_regression_c_1\n",
            "\n",
            "Finished Fitting: logistic_regression_c_2\n",
            "\n",
            "Finished Fitting: logistic_regression_c_4\n",
            "\n",
            "Finished Fitting: random_forest_dpth_8_estim_100\n",
            "\n",
            "Finished Fitting: random_forest_dpth_8_estim_300\n",
            "\n",
            "Finished Fitting: random_forest_dpth_8_estim_500\n",
            "\n",
            "Finished Fitting: random_forest_dpth_12_estim_100\n",
            "\n",
            "Finished Fitting: random_forest_dpth_12_estim_300\n",
            "\n",
            "Finished Fitting: random_forest_dpth_12_estim_500\n",
            "\n",
            "Finished Fitting: random_forest_dpth_16_estim_100\n",
            "\n",
            "Finished Fitting: random_forest_dpth_16_estim_300\n",
            "\n",
            "Finished Fitting: random_forest_dpth_16_estim_500\n",
            "\n",
            "Finished Fitting: xgboost_dpth_6_estim_100\n",
            "\n",
            "Finished Fitting: xgboost_dpth_6_estim_300\n",
            "\n",
            "Finished Fitting: xgboost_dpth_6_estim_500\n",
            "\n",
            "Finished Fitting: xgboost_dpth_8_estim_100\n",
            "\n",
            "Finished Fitting: xgboost_dpth_8_estim_300\n",
            "\n",
            "Finished Fitting: xgboost_dpth_8_estim_500\n",
            "\n",
            "Finished Fitting: xgboost_dpth_10_estim_100\n",
            "\n",
            "Finished Fitting: xgboost_dpth_10_estim_300\n",
            "\n",
            "Finished Fitting: xgboost_dpth_10_estim_500\n"
          ]
        },
        {
          "output_type": "stream",
          "name": "stderr",
          "text": [
            "\r 14%|█▎        | 3/22 [13:54<1:29:21, 282.19s/it]"
          ]
        },
        {
          "output_type": "stream",
          "name": "stdout",
          "text": [
            "\n",
            "Finished Fitting: logistic_regression_c_0.25\n",
            "\n",
            "Finished Fitting: logistic_regression_c_0.5\n",
            "\n",
            "Finished Fitting: logistic_regression_c_1\n",
            "\n",
            "Finished Fitting: logistic_regression_c_2\n",
            "\n",
            "Finished Fitting: logistic_regression_c_4\n",
            "\n",
            "Finished Fitting: random_forest_dpth_8_estim_100\n",
            "\n",
            "Finished Fitting: random_forest_dpth_8_estim_300\n",
            "\n",
            "Finished Fitting: random_forest_dpth_8_estim_500\n",
            "\n",
            "Finished Fitting: random_forest_dpth_12_estim_100\n",
            "\n",
            "Finished Fitting: random_forest_dpth_12_estim_300\n",
            "\n",
            "Finished Fitting: random_forest_dpth_12_estim_500\n",
            "\n",
            "Finished Fitting: random_forest_dpth_16_estim_100\n",
            "\n",
            "Finished Fitting: random_forest_dpth_16_estim_300\n",
            "\n",
            "Finished Fitting: random_forest_dpth_16_estim_500\n",
            "\n",
            "Finished Fitting: xgboost_dpth_6_estim_100\n",
            "\n",
            "Finished Fitting: xgboost_dpth_6_estim_300\n",
            "\n",
            "Finished Fitting: xgboost_dpth_6_estim_500\n",
            "\n",
            "Finished Fitting: xgboost_dpth_8_estim_100\n",
            "\n",
            "Finished Fitting: xgboost_dpth_8_estim_300\n",
            "\n",
            "Finished Fitting: xgboost_dpth_8_estim_500\n",
            "\n",
            "Finished Fitting: xgboost_dpth_10_estim_100\n",
            "\n",
            "Finished Fitting: xgboost_dpth_10_estim_300\n",
            "\n",
            "Finished Fitting: xgboost_dpth_10_estim_500\n"
          ]
        },
        {
          "output_type": "stream",
          "name": "stderr",
          "text": [
            "\r 18%|█▊        | 4/22 [20:49<1:40:23, 334.63s/it]"
          ]
        },
        {
          "output_type": "stream",
          "name": "stdout",
          "text": [
            "\n",
            "Finished Fitting: logistic_regression_c_0.25\n",
            "\n",
            "Finished Fitting: logistic_regression_c_0.5\n",
            "\n",
            "Finished Fitting: logistic_regression_c_1\n",
            "\n",
            "Finished Fitting: logistic_regression_c_2\n",
            "\n",
            "Finished Fitting: logistic_regression_c_4\n",
            "\n",
            "Finished Fitting: random_forest_dpth_8_estim_100\n",
            "\n",
            "Finished Fitting: random_forest_dpth_8_estim_300\n",
            "\n",
            "Finished Fitting: random_forest_dpth_8_estim_500\n",
            "\n",
            "Finished Fitting: random_forest_dpth_12_estim_100\n",
            "\n",
            "Finished Fitting: random_forest_dpth_12_estim_300\n",
            "\n",
            "Finished Fitting: random_forest_dpth_12_estim_500\n",
            "\n",
            "Finished Fitting: random_forest_dpth_16_estim_100\n",
            "\n",
            "Finished Fitting: random_forest_dpth_16_estim_300\n",
            "\n",
            "Finished Fitting: random_forest_dpth_16_estim_500\n",
            "\n",
            "Finished Fitting: xgboost_dpth_6_estim_100\n",
            "\n",
            "Finished Fitting: xgboost_dpth_6_estim_300\n",
            "\n",
            "Finished Fitting: xgboost_dpth_6_estim_500\n",
            "\n",
            "Finished Fitting: xgboost_dpth_8_estim_100\n",
            "\n",
            "Finished Fitting: xgboost_dpth_8_estim_300\n",
            "\n",
            "Finished Fitting: xgboost_dpth_8_estim_500\n",
            "\n",
            "Finished Fitting: xgboost_dpth_10_estim_100\n",
            "\n",
            "Finished Fitting: xgboost_dpth_10_estim_300\n",
            "\n",
            "Finished Fitting: xgboost_dpth_10_estim_500\n"
          ]
        },
        {
          "output_type": "stream",
          "name": "stderr",
          "text": [
            "\r 23%|██▎       | 5/22 [30:12<1:58:10, 417.10s/it]"
          ]
        },
        {
          "output_type": "stream",
          "name": "stdout",
          "text": [
            "\n",
            "Finished Fitting: logistic_regression_c_0.25\n",
            "\n",
            "Finished Fitting: logistic_regression_c_0.5\n",
            "\n",
            "Finished Fitting: logistic_regression_c_1\n",
            "\n",
            "Finished Fitting: logistic_regression_c_2\n",
            "\n",
            "Finished Fitting: logistic_regression_c_4\n",
            "\n",
            "Finished Fitting: random_forest_dpth_8_estim_100\n",
            "\n",
            "Finished Fitting: random_forest_dpth_8_estim_300\n",
            "\n",
            "Finished Fitting: random_forest_dpth_8_estim_500\n",
            "\n",
            "Finished Fitting: random_forest_dpth_12_estim_100\n",
            "\n",
            "Finished Fitting: random_forest_dpth_12_estim_300\n",
            "\n",
            "Finished Fitting: random_forest_dpth_12_estim_500\n",
            "\n",
            "Finished Fitting: random_forest_dpth_16_estim_100\n",
            "\n",
            "Finished Fitting: random_forest_dpth_16_estim_300\n",
            "\n",
            "Finished Fitting: random_forest_dpth_16_estim_500\n",
            "\n",
            "Finished Fitting: xgboost_dpth_6_estim_100\n",
            "\n",
            "Finished Fitting: xgboost_dpth_6_estim_300\n",
            "\n",
            "Finished Fitting: xgboost_dpth_6_estim_500\n",
            "\n",
            "Finished Fitting: xgboost_dpth_8_estim_100\n",
            "\n",
            "Finished Fitting: xgboost_dpth_8_estim_300\n",
            "\n",
            "Finished Fitting: xgboost_dpth_8_estim_500\n",
            "\n",
            "Finished Fitting: xgboost_dpth_10_estim_100\n",
            "\n",
            "Finished Fitting: xgboost_dpth_10_estim_300\n",
            "\n",
            "Finished Fitting: xgboost_dpth_10_estim_500\n"
          ]
        },
        {
          "output_type": "stream",
          "name": "stderr",
          "text": [
            "\r 27%|██▋       | 6/22 [40:25<2:08:58, 483.65s/it]"
          ]
        },
        {
          "output_type": "stream",
          "name": "stdout",
          "text": [
            "\n",
            "Finished Fitting: logistic_regression_c_0.25\n",
            "\n",
            "Finished Fitting: logistic_regression_c_0.5\n",
            "\n",
            "Finished Fitting: logistic_regression_c_1\n",
            "\n",
            "Finished Fitting: logistic_regression_c_2\n",
            "\n",
            "Finished Fitting: logistic_regression_c_4\n",
            "\n",
            "Finished Fitting: random_forest_dpth_8_estim_100\n",
            "\n",
            "Finished Fitting: random_forest_dpth_8_estim_300\n",
            "\n",
            "Finished Fitting: random_forest_dpth_8_estim_500\n",
            "\n",
            "Finished Fitting: random_forest_dpth_12_estim_100\n",
            "\n",
            "Finished Fitting: random_forest_dpth_12_estim_300\n",
            "\n",
            "Finished Fitting: random_forest_dpth_12_estim_500\n",
            "\n",
            "Finished Fitting: random_forest_dpth_16_estim_100\n",
            "\n",
            "Finished Fitting: random_forest_dpth_16_estim_300\n",
            "\n",
            "Finished Fitting: random_forest_dpth_16_estim_500\n",
            "\n",
            "Finished Fitting: xgboost_dpth_6_estim_100\n",
            "\n",
            "Finished Fitting: xgboost_dpth_6_estim_300\n",
            "\n",
            "Finished Fitting: xgboost_dpth_6_estim_500\n",
            "\n",
            "Finished Fitting: xgboost_dpth_8_estim_100\n",
            "\n",
            "Finished Fitting: xgboost_dpth_8_estim_300\n",
            "\n",
            "Finished Fitting: xgboost_dpth_8_estim_500\n",
            "\n",
            "Finished Fitting: xgboost_dpth_10_estim_100\n",
            "\n",
            "Finished Fitting: xgboost_dpth_10_estim_300\n",
            "\n",
            "Finished Fitting: xgboost_dpth_10_estim_500\n"
          ]
        },
        {
          "output_type": "stream",
          "name": "stderr",
          "text": [
            "\r 32%|███▏      | 7/22 [50:27<2:10:34, 522.27s/it]"
          ]
        },
        {
          "output_type": "stream",
          "name": "stdout",
          "text": [
            "\n",
            "Finished Fitting: logistic_regression_c_0.25\n",
            "\n",
            "Finished Fitting: logistic_regression_c_0.5\n",
            "\n",
            "Finished Fitting: logistic_regression_c_1\n",
            "\n",
            "Finished Fitting: logistic_regression_c_2\n",
            "\n",
            "Finished Fitting: logistic_regression_c_4\n",
            "\n",
            "Finished Fitting: random_forest_dpth_8_estim_100\n",
            "\n",
            "Finished Fitting: random_forest_dpth_8_estim_300\n",
            "\n",
            "Finished Fitting: random_forest_dpth_8_estim_500\n",
            "\n",
            "Finished Fitting: random_forest_dpth_12_estim_100\n",
            "\n",
            "Finished Fitting: random_forest_dpth_12_estim_300\n",
            "\n",
            "Finished Fitting: random_forest_dpth_12_estim_500\n",
            "\n",
            "Finished Fitting: random_forest_dpth_16_estim_100\n",
            "\n",
            "Finished Fitting: random_forest_dpth_16_estim_300\n",
            "\n",
            "Finished Fitting: random_forest_dpth_16_estim_500\n",
            "\n",
            "Finished Fitting: xgboost_dpth_6_estim_100\n",
            "\n",
            "Finished Fitting: xgboost_dpth_6_estim_300\n",
            "\n",
            "Finished Fitting: xgboost_dpth_6_estim_500\n",
            "\n",
            "Finished Fitting: xgboost_dpth_8_estim_100\n",
            "\n",
            "Finished Fitting: xgboost_dpth_8_estim_300\n",
            "\n",
            "Finished Fitting: xgboost_dpth_8_estim_500\n",
            "\n",
            "Finished Fitting: xgboost_dpth_10_estim_100\n",
            "\n",
            "Finished Fitting: xgboost_dpth_10_estim_300\n",
            "\n",
            "Finished Fitting: xgboost_dpth_10_estim_500\n"
          ]
        },
        {
          "output_type": "stream",
          "name": "stderr",
          "text": [
            "\r 36%|███▋      | 8/22 [1:00:50<2:09:21, 554.40s/it]"
          ]
        },
        {
          "output_type": "stream",
          "name": "stdout",
          "text": [
            "\n",
            "Finished Fitting: logistic_regression_c_0.25\n"
          ]
        },
        {
          "output_type": "stream",
          "name": "stderr",
          "text": [
            "/usr/local/lib/python3.8/dist-packages/sklearn/linear_model/_logistic.py:814: ConvergenceWarning: lbfgs failed to converge (status=1):\n",
            "STOP: TOTAL NO. of ITERATIONS REACHED LIMIT.\n",
            "\n",
            "Increase the number of iterations (max_iter) or scale the data as shown in:\n",
            "    https://scikit-learn.org/stable/modules/preprocessing.html\n",
            "Please also refer to the documentation for alternative solver options:\n",
            "    https://scikit-learn.org/stable/modules/linear_model.html#logistic-regression\n",
            "  n_iter_i = _check_optimize_result(\n"
          ]
        },
        {
          "output_type": "stream",
          "name": "stdout",
          "text": [
            "\n",
            "Finished Fitting: logistic_regression_c_0.5\n",
            "\n",
            "Finished Fitting: logistic_regression_c_1\n",
            "\n",
            "Finished Fitting: logistic_regression_c_2\n",
            "\n",
            "Finished Fitting: logistic_regression_c_4\n",
            "\n",
            "Finished Fitting: random_forest_dpth_8_estim_100\n",
            "\n",
            "Finished Fitting: random_forest_dpth_8_estim_300\n",
            "\n",
            "Finished Fitting: random_forest_dpth_8_estim_500\n",
            "\n",
            "Finished Fitting: random_forest_dpth_12_estim_100\n",
            "\n",
            "Finished Fitting: random_forest_dpth_12_estim_300\n",
            "\n",
            "Finished Fitting: random_forest_dpth_12_estim_500\n",
            "\n",
            "Finished Fitting: random_forest_dpth_16_estim_100\n",
            "\n",
            "Finished Fitting: random_forest_dpth_16_estim_300\n",
            "\n",
            "Finished Fitting: random_forest_dpth_16_estim_500\n",
            "\n",
            "Finished Fitting: xgboost_dpth_6_estim_100\n",
            "\n",
            "Finished Fitting: xgboost_dpth_6_estim_300\n",
            "\n",
            "Finished Fitting: xgboost_dpth_6_estim_500\n",
            "\n",
            "Finished Fitting: xgboost_dpth_8_estim_100\n",
            "\n",
            "Finished Fitting: xgboost_dpth_8_estim_300\n",
            "\n",
            "Finished Fitting: xgboost_dpth_8_estim_500\n",
            "\n",
            "Finished Fitting: xgboost_dpth_10_estim_100\n",
            "\n",
            "Finished Fitting: xgboost_dpth_10_estim_300\n",
            "\n",
            "Finished Fitting: xgboost_dpth_10_estim_500\n"
          ]
        },
        {
          "output_type": "stream",
          "name": "stderr",
          "text": [
            "\r 41%|████      | 9/22 [1:12:40<2:10:38, 602.93s/it]"
          ]
        },
        {
          "output_type": "stream",
          "name": "stdout",
          "text": [
            "\n",
            "Finished Fitting: logistic_regression_c_0.25\n",
            "\n",
            "Finished Fitting: logistic_regression_c_0.5\n",
            "\n",
            "Finished Fitting: logistic_regression_c_1\n",
            "\n",
            "Finished Fitting: logistic_regression_c_2\n"
          ]
        },
        {
          "output_type": "stream",
          "name": "stderr",
          "text": [
            "/usr/local/lib/python3.8/dist-packages/sklearn/linear_model/_logistic.py:814: ConvergenceWarning: lbfgs failed to converge (status=1):\n",
            "STOP: TOTAL NO. of ITERATIONS REACHED LIMIT.\n",
            "\n",
            "Increase the number of iterations (max_iter) or scale the data as shown in:\n",
            "    https://scikit-learn.org/stable/modules/preprocessing.html\n",
            "Please also refer to the documentation for alternative solver options:\n",
            "    https://scikit-learn.org/stable/modules/linear_model.html#logistic-regression\n",
            "  n_iter_i = _check_optimize_result(\n"
          ]
        },
        {
          "output_type": "stream",
          "name": "stdout",
          "text": [
            "\n",
            "Finished Fitting: logistic_regression_c_4\n",
            "\n",
            "Finished Fitting: random_forest_dpth_8_estim_100\n",
            "\n",
            "Finished Fitting: random_forest_dpth_8_estim_300\n",
            "\n",
            "Finished Fitting: random_forest_dpth_8_estim_500\n",
            "\n",
            "Finished Fitting: random_forest_dpth_12_estim_100\n",
            "\n",
            "Finished Fitting: random_forest_dpth_12_estim_300\n",
            "\n",
            "Finished Fitting: random_forest_dpth_12_estim_500\n",
            "\n",
            "Finished Fitting: random_forest_dpth_16_estim_100\n",
            "\n",
            "Finished Fitting: random_forest_dpth_16_estim_300\n",
            "\n",
            "Finished Fitting: random_forest_dpth_16_estim_500\n",
            "\n",
            "Finished Fitting: xgboost_dpth_6_estim_100\n",
            "\n",
            "Finished Fitting: xgboost_dpth_6_estim_300\n",
            "\n",
            "Finished Fitting: xgboost_dpth_6_estim_500\n",
            "\n",
            "Finished Fitting: xgboost_dpth_8_estim_100\n",
            "\n",
            "Finished Fitting: xgboost_dpth_8_estim_300\n",
            "\n",
            "Finished Fitting: xgboost_dpth_8_estim_500\n",
            "\n",
            "Finished Fitting: xgboost_dpth_10_estim_100\n",
            "\n",
            "Finished Fitting: xgboost_dpth_10_estim_300\n",
            "\n",
            "Finished Fitting: xgboost_dpth_10_estim_500\n"
          ]
        },
        {
          "output_type": "stream",
          "name": "stderr",
          "text": [
            "\r 45%|████▌     | 10/22 [1:26:57<2:16:18, 681.52s/it]"
          ]
        },
        {
          "output_type": "stream",
          "name": "stdout",
          "text": [
            "\n",
            "Finished Fitting: logistic_regression_c_0.25\n",
            "\n",
            "Finished Fitting: logistic_regression_c_0.5\n",
            "\n",
            "Finished Fitting: logistic_regression_c_1\n",
            "\n",
            "Finished Fitting: logistic_regression_c_2\n",
            "\n",
            "Finished Fitting: logistic_regression_c_4\n",
            "\n",
            "Finished Fitting: random_forest_dpth_8_estim_100\n",
            "\n",
            "Finished Fitting: random_forest_dpth_8_estim_300\n",
            "\n",
            "Finished Fitting: random_forest_dpth_8_estim_500\n",
            "\n",
            "Finished Fitting: random_forest_dpth_12_estim_100\n",
            "\n",
            "Finished Fitting: random_forest_dpth_12_estim_300\n",
            "\n",
            "Finished Fitting: random_forest_dpth_12_estim_500\n",
            "\n",
            "Finished Fitting: random_forest_dpth_16_estim_100\n",
            "\n",
            "Finished Fitting: random_forest_dpth_16_estim_300\n",
            "\n",
            "Finished Fitting: random_forest_dpth_16_estim_500\n",
            "\n",
            "Finished Fitting: xgboost_dpth_6_estim_100\n",
            "\n",
            "Finished Fitting: xgboost_dpth_6_estim_300\n",
            "\n",
            "Finished Fitting: xgboost_dpth_6_estim_500\n",
            "\n",
            "Finished Fitting: xgboost_dpth_8_estim_100\n",
            "\n",
            "Finished Fitting: xgboost_dpth_8_estim_300\n",
            "\n",
            "Finished Fitting: xgboost_dpth_8_estim_500\n",
            "\n",
            "Finished Fitting: xgboost_dpth_10_estim_100\n",
            "\n",
            "Finished Fitting: xgboost_dpth_10_estim_300\n",
            "\n",
            "Finished Fitting: xgboost_dpth_10_estim_500\n"
          ]
        },
        {
          "output_type": "stream",
          "name": "stderr",
          "text": [
            "\r 50%|█████     | 11/22 [1:41:25<2:15:24, 738.63s/it]"
          ]
        },
        {
          "output_type": "stream",
          "name": "stdout",
          "text": [
            "\n",
            "Finished Fitting: logistic_regression_c_0.25\n",
            "\n",
            "Finished Fitting: logistic_regression_c_0.5\n",
            "\n",
            "Finished Fitting: logistic_regression_c_1\n",
            "\n",
            "Finished Fitting: logistic_regression_c_2\n",
            "\n",
            "Finished Fitting: logistic_regression_c_4\n",
            "\n",
            "Finished Fitting: random_forest_dpth_8_estim_100\n",
            "\n",
            "Finished Fitting: random_forest_dpth_8_estim_300\n",
            "\n",
            "Finished Fitting: random_forest_dpth_8_estim_500\n",
            "\n",
            "Finished Fitting: random_forest_dpth_12_estim_100\n",
            "\n",
            "Finished Fitting: random_forest_dpth_12_estim_300\n",
            "\n",
            "Finished Fitting: random_forest_dpth_12_estim_500\n",
            "\n",
            "Finished Fitting: random_forest_dpth_16_estim_100\n",
            "\n",
            "Finished Fitting: random_forest_dpth_16_estim_300\n",
            "\n",
            "Finished Fitting: random_forest_dpth_16_estim_500\n",
            "\n",
            "Finished Fitting: xgboost_dpth_6_estim_100\n",
            "\n",
            "Finished Fitting: xgboost_dpth_6_estim_300\n",
            "\n",
            "Finished Fitting: xgboost_dpth_6_estim_500\n",
            "\n",
            "Finished Fitting: xgboost_dpth_8_estim_100\n",
            "\n",
            "Finished Fitting: xgboost_dpth_8_estim_300\n",
            "\n",
            "Finished Fitting: xgboost_dpth_8_estim_500\n",
            "\n",
            "Finished Fitting: xgboost_dpth_10_estim_100\n",
            "\n",
            "Finished Fitting: xgboost_dpth_10_estim_300\n",
            "\n",
            "Finished Fitting: xgboost_dpth_10_estim_500\n"
          ]
        },
        {
          "output_type": "stream",
          "name": "stderr",
          "text": [
            "\r 55%|█████▍    | 12/22 [1:56:59<2:12:59, 797.94s/it]"
          ]
        },
        {
          "output_type": "stream",
          "name": "stdout",
          "text": [
            "\n",
            "Finished Fitting: logistic_regression_c_0.25\n",
            "\n",
            "Finished Fitting: logistic_regression_c_0.5\n",
            "\n",
            "Finished Fitting: logistic_regression_c_1\n",
            "\n",
            "Finished Fitting: logistic_regression_c_2\n",
            "\n",
            "Finished Fitting: logistic_regression_c_4\n",
            "\n",
            "Finished Fitting: random_forest_dpth_8_estim_100\n",
            "\n",
            "Finished Fitting: random_forest_dpth_8_estim_300\n",
            "\n",
            "Finished Fitting: random_forest_dpth_8_estim_500\n",
            "\n",
            "Finished Fitting: random_forest_dpth_12_estim_100\n",
            "\n",
            "Finished Fitting: random_forest_dpth_12_estim_300\n",
            "\n",
            "Finished Fitting: random_forest_dpth_12_estim_500\n",
            "\n",
            "Finished Fitting: random_forest_dpth_16_estim_100\n",
            "\n",
            "Finished Fitting: random_forest_dpth_16_estim_300\n",
            "\n",
            "Finished Fitting: random_forest_dpth_16_estim_500\n",
            "\n",
            "Finished Fitting: xgboost_dpth_6_estim_100\n",
            "\n",
            "Finished Fitting: xgboost_dpth_6_estim_300\n",
            "\n",
            "Finished Fitting: xgboost_dpth_6_estim_500\n",
            "\n",
            "Finished Fitting: xgboost_dpth_8_estim_100\n",
            "\n",
            "Finished Fitting: xgboost_dpth_8_estim_300\n",
            "\n",
            "Finished Fitting: xgboost_dpth_8_estim_500\n",
            "\n",
            "Finished Fitting: xgboost_dpth_10_estim_100\n",
            "\n",
            "Finished Fitting: xgboost_dpth_10_estim_300\n",
            "\n",
            "Finished Fitting: xgboost_dpth_10_estim_500\n"
          ]
        },
        {
          "output_type": "stream",
          "name": "stderr",
          "text": [
            "\r 59%|█████▉    | 13/22 [2:15:20<2:13:26, 889.66s/it]"
          ]
        },
        {
          "output_type": "stream",
          "name": "stdout",
          "text": [
            "\n",
            "Finished Fitting: logistic_regression_c_0.25\n",
            "\n",
            "Finished Fitting: logistic_regression_c_0.5\n",
            "\n",
            "Finished Fitting: logistic_regression_c_1\n"
          ]
        },
        {
          "output_type": "stream",
          "name": "stderr",
          "text": [
            "/usr/local/lib/python3.8/dist-packages/sklearn/linear_model/_logistic.py:814: ConvergenceWarning: lbfgs failed to converge (status=1):\n",
            "STOP: TOTAL NO. of ITERATIONS REACHED LIMIT.\n",
            "\n",
            "Increase the number of iterations (max_iter) or scale the data as shown in:\n",
            "    https://scikit-learn.org/stable/modules/preprocessing.html\n",
            "Please also refer to the documentation for alternative solver options:\n",
            "    https://scikit-learn.org/stable/modules/linear_model.html#logistic-regression\n",
            "  n_iter_i = _check_optimize_result(\n"
          ]
        },
        {
          "output_type": "stream",
          "name": "stdout",
          "text": [
            "\n",
            "Finished Fitting: logistic_regression_c_2\n",
            "\n",
            "Finished Fitting: logistic_regression_c_4\n",
            "\n",
            "Finished Fitting: random_forest_dpth_8_estim_100\n",
            "\n",
            "Finished Fitting: random_forest_dpth_8_estim_300\n",
            "\n",
            "Finished Fitting: random_forest_dpth_8_estim_500\n",
            "\n",
            "Finished Fitting: random_forest_dpth_12_estim_100\n",
            "\n",
            "Finished Fitting: random_forest_dpth_12_estim_300\n",
            "\n",
            "Finished Fitting: random_forest_dpth_12_estim_500\n",
            "\n",
            "Finished Fitting: random_forest_dpth_16_estim_100\n",
            "\n",
            "Finished Fitting: random_forest_dpth_16_estim_300\n",
            "\n",
            "Finished Fitting: random_forest_dpth_16_estim_500\n",
            "\n",
            "Finished Fitting: xgboost_dpth_6_estim_100\n",
            "\n",
            "Finished Fitting: xgboost_dpth_6_estim_300\n",
            "\n",
            "Finished Fitting: xgboost_dpth_6_estim_500\n",
            "\n",
            "Finished Fitting: xgboost_dpth_8_estim_100\n",
            "\n",
            "Finished Fitting: xgboost_dpth_8_estim_300\n",
            "\n",
            "Finished Fitting: xgboost_dpth_8_estim_500\n",
            "\n",
            "Finished Fitting: xgboost_dpth_10_estim_100\n",
            "\n",
            "Finished Fitting: xgboost_dpth_10_estim_300\n",
            "\n",
            "Finished Fitting: xgboost_dpth_10_estim_500\n"
          ]
        },
        {
          "output_type": "stream",
          "name": "stderr",
          "text": [
            "\r 64%|██████▎   | 14/22 [2:39:06<2:20:13, 1051.71s/it]"
          ]
        },
        {
          "output_type": "stream",
          "name": "stdout",
          "text": [
            "\n",
            "Finished Fitting: logistic_regression_c_0.25\n",
            "\n",
            "Finished Fitting: logistic_regression_c_0.5\n",
            "\n",
            "Finished Fitting: logistic_regression_c_1\n"
          ]
        },
        {
          "output_type": "stream",
          "name": "stderr",
          "text": [
            "/usr/local/lib/python3.8/dist-packages/sklearn/linear_model/_logistic.py:814: ConvergenceWarning: lbfgs failed to converge (status=1):\n",
            "STOP: TOTAL NO. of ITERATIONS REACHED LIMIT.\n",
            "\n",
            "Increase the number of iterations (max_iter) or scale the data as shown in:\n",
            "    https://scikit-learn.org/stable/modules/preprocessing.html\n",
            "Please also refer to the documentation for alternative solver options:\n",
            "    https://scikit-learn.org/stable/modules/linear_model.html#logistic-regression\n",
            "  n_iter_i = _check_optimize_result(\n"
          ]
        },
        {
          "output_type": "stream",
          "name": "stdout",
          "text": [
            "\n",
            "Finished Fitting: logistic_regression_c_2\n",
            "\n",
            "Finished Fitting: logistic_regression_c_4\n",
            "\n",
            "Finished Fitting: random_forest_dpth_8_estim_100\n",
            "\n",
            "Finished Fitting: random_forest_dpth_8_estim_300\n",
            "\n",
            "Finished Fitting: random_forest_dpth_8_estim_500\n",
            "\n",
            "Finished Fitting: random_forest_dpth_12_estim_100\n",
            "\n",
            "Finished Fitting: random_forest_dpth_12_estim_300\n",
            "\n",
            "Finished Fitting: random_forest_dpth_12_estim_500\n",
            "\n",
            "Finished Fitting: random_forest_dpth_16_estim_100\n",
            "\n",
            "Finished Fitting: random_forest_dpth_16_estim_300\n",
            "\n",
            "Finished Fitting: random_forest_dpth_16_estim_500\n",
            "\n",
            "Finished Fitting: xgboost_dpth_6_estim_100\n",
            "\n",
            "Finished Fitting: xgboost_dpth_6_estim_300\n",
            "\n",
            "Finished Fitting: xgboost_dpth_6_estim_500\n",
            "\n",
            "Finished Fitting: xgboost_dpth_8_estim_100\n",
            "\n",
            "Finished Fitting: xgboost_dpth_8_estim_300\n",
            "\n",
            "Finished Fitting: xgboost_dpth_8_estim_500\n",
            "\n",
            "Finished Fitting: xgboost_dpth_10_estim_100\n",
            "\n",
            "Finished Fitting: xgboost_dpth_10_estim_300\n",
            "\n",
            "Finished Fitting: xgboost_dpth_10_estim_500\n"
          ]
        },
        {
          "output_type": "stream",
          "name": "stderr",
          "text": [
            "\r 68%|██████▊   | 15/22 [3:04:20<2:18:57, 1191.01s/it]"
          ]
        },
        {
          "output_type": "stream",
          "name": "stdout",
          "text": [
            "\n",
            "Finished Fitting: logistic_regression_c_0.25\n"
          ]
        },
        {
          "output_type": "stream",
          "name": "stderr",
          "text": [
            "/usr/local/lib/python3.8/dist-packages/sklearn/linear_model/_logistic.py:814: ConvergenceWarning: lbfgs failed to converge (status=1):\n",
            "STOP: TOTAL NO. of ITERATIONS REACHED LIMIT.\n",
            "\n",
            "Increase the number of iterations (max_iter) or scale the data as shown in:\n",
            "    https://scikit-learn.org/stable/modules/preprocessing.html\n",
            "Please also refer to the documentation for alternative solver options:\n",
            "    https://scikit-learn.org/stable/modules/linear_model.html#logistic-regression\n",
            "  n_iter_i = _check_optimize_result(\n"
          ]
        },
        {
          "output_type": "stream",
          "name": "stdout",
          "text": [
            "\n",
            "Finished Fitting: logistic_regression_c_0.5\n",
            "\n",
            "Finished Fitting: logistic_regression_c_1\n",
            "\n",
            "Finished Fitting: logistic_regression_c_2\n"
          ]
        },
        {
          "output_type": "stream",
          "name": "stderr",
          "text": [
            "/usr/local/lib/python3.8/dist-packages/sklearn/linear_model/_logistic.py:814: ConvergenceWarning: lbfgs failed to converge (status=1):\n",
            "STOP: TOTAL NO. of ITERATIONS REACHED LIMIT.\n",
            "\n",
            "Increase the number of iterations (max_iter) or scale the data as shown in:\n",
            "    https://scikit-learn.org/stable/modules/preprocessing.html\n",
            "Please also refer to the documentation for alternative solver options:\n",
            "    https://scikit-learn.org/stable/modules/linear_model.html#logistic-regression\n",
            "  n_iter_i = _check_optimize_result(\n"
          ]
        },
        {
          "output_type": "stream",
          "name": "stdout",
          "text": [
            "\n",
            "Finished Fitting: logistic_regression_c_4\n",
            "\n",
            "Finished Fitting: random_forest_dpth_8_estim_100\n",
            "\n",
            "Finished Fitting: random_forest_dpth_8_estim_300\n",
            "\n",
            "Finished Fitting: random_forest_dpth_8_estim_500\n",
            "\n",
            "Finished Fitting: random_forest_dpth_12_estim_100\n",
            "\n",
            "Finished Fitting: random_forest_dpth_12_estim_300\n",
            "\n",
            "Finished Fitting: random_forest_dpth_12_estim_500\n",
            "\n",
            "Finished Fitting: random_forest_dpth_16_estim_100\n",
            "\n",
            "Finished Fitting: random_forest_dpth_16_estim_300\n",
            "\n",
            "Finished Fitting: random_forest_dpth_16_estim_500\n",
            "\n",
            "Finished Fitting: xgboost_dpth_6_estim_100\n",
            "\n",
            "Finished Fitting: xgboost_dpth_6_estim_300\n",
            "\n",
            "Finished Fitting: xgboost_dpth_6_estim_500\n",
            "\n",
            "Finished Fitting: xgboost_dpth_8_estim_100\n",
            "\n",
            "Finished Fitting: xgboost_dpth_8_estim_300\n",
            "\n",
            "Finished Fitting: xgboost_dpth_8_estim_500\n",
            "\n",
            "Finished Fitting: xgboost_dpth_10_estim_100\n",
            "\n",
            "Finished Fitting: xgboost_dpth_10_estim_300\n",
            "\n",
            "Finished Fitting: xgboost_dpth_10_estim_500\n"
          ]
        },
        {
          "output_type": "stream",
          "name": "stderr",
          "text": [
            "\r 73%|███████▎  | 16/22 [3:29:30<2:08:43, 1287.20s/it]"
          ]
        },
        {
          "output_type": "stream",
          "name": "stdout",
          "text": [
            "\n",
            "Finished Fitting: logistic_regression_c_0.25\n",
            "\n",
            "Finished Fitting: logistic_regression_c_0.5\n"
          ]
        },
        {
          "output_type": "stream",
          "name": "stderr",
          "text": [
            "/usr/local/lib/python3.8/dist-packages/sklearn/linear_model/_logistic.py:814: ConvergenceWarning: lbfgs failed to converge (status=1):\n",
            "STOP: TOTAL NO. of ITERATIONS REACHED LIMIT.\n",
            "\n",
            "Increase the number of iterations (max_iter) or scale the data as shown in:\n",
            "    https://scikit-learn.org/stable/modules/preprocessing.html\n",
            "Please also refer to the documentation for alternative solver options:\n",
            "    https://scikit-learn.org/stable/modules/linear_model.html#logistic-regression\n",
            "  n_iter_i = _check_optimize_result(\n"
          ]
        },
        {
          "output_type": "stream",
          "name": "stdout",
          "text": [
            "\n",
            "Finished Fitting: logistic_regression_c_1\n",
            "\n",
            "Finished Fitting: logistic_regression_c_2\n"
          ]
        },
        {
          "output_type": "stream",
          "name": "stderr",
          "text": [
            "/usr/local/lib/python3.8/dist-packages/sklearn/linear_model/_logistic.py:814: ConvergenceWarning: lbfgs failed to converge (status=1):\n",
            "STOP: TOTAL NO. of ITERATIONS REACHED LIMIT.\n",
            "\n",
            "Increase the number of iterations (max_iter) or scale the data as shown in:\n",
            "    https://scikit-learn.org/stable/modules/preprocessing.html\n",
            "Please also refer to the documentation for alternative solver options:\n",
            "    https://scikit-learn.org/stable/modules/linear_model.html#logistic-regression\n",
            "  n_iter_i = _check_optimize_result(\n"
          ]
        },
        {
          "output_type": "stream",
          "name": "stdout",
          "text": [
            "\n",
            "Finished Fitting: logistic_regression_c_4\n",
            "\n",
            "Finished Fitting: random_forest_dpth_8_estim_100\n",
            "\n",
            "Finished Fitting: random_forest_dpth_8_estim_300\n",
            "\n",
            "Finished Fitting: random_forest_dpth_8_estim_500\n",
            "\n",
            "Finished Fitting: random_forest_dpth_12_estim_100\n",
            "\n",
            "Finished Fitting: random_forest_dpth_12_estim_300\n",
            "\n",
            "Finished Fitting: random_forest_dpth_12_estim_500\n",
            "\n",
            "Finished Fitting: random_forest_dpth_16_estim_100\n",
            "\n",
            "Finished Fitting: random_forest_dpth_16_estim_300\n",
            "\n",
            "Finished Fitting: random_forest_dpth_16_estim_500\n",
            "\n",
            "Finished Fitting: xgboost_dpth_6_estim_100\n",
            "\n",
            "Finished Fitting: xgboost_dpth_6_estim_300\n",
            "\n",
            "Finished Fitting: xgboost_dpth_6_estim_500\n",
            "\n",
            "Finished Fitting: xgboost_dpth_8_estim_100\n",
            "\n",
            "Finished Fitting: xgboost_dpth_8_estim_300\n",
            "\n",
            "Finished Fitting: xgboost_dpth_8_estim_500\n",
            "\n",
            "Finished Fitting: xgboost_dpth_10_estim_100\n",
            "\n",
            "Finished Fitting: xgboost_dpth_10_estim_300\n",
            "\n",
            "Finished Fitting: xgboost_dpth_10_estim_500\n"
          ]
        },
        {
          "output_type": "stream",
          "name": "stderr",
          "text": [
            "\r 77%|███████▋  | 17/22 [3:55:49<1:54:34, 1374.87s/it]/usr/local/lib/python3.8/dist-packages/sklearn/linear_model/_logistic.py:814: ConvergenceWarning: lbfgs failed to converge (status=1):\n",
            "STOP: TOTAL NO. of ITERATIONS REACHED LIMIT.\n",
            "\n",
            "Increase the number of iterations (max_iter) or scale the data as shown in:\n",
            "    https://scikit-learn.org/stable/modules/preprocessing.html\n",
            "Please also refer to the documentation for alternative solver options:\n",
            "    https://scikit-learn.org/stable/modules/linear_model.html#logistic-regression\n",
            "  n_iter_i = _check_optimize_result(\n"
          ]
        },
        {
          "output_type": "stream",
          "name": "stdout",
          "text": [
            "\n",
            "Finished Fitting: logistic_regression_c_0.25\n"
          ]
        },
        {
          "output_type": "stream",
          "name": "stderr",
          "text": [
            "/usr/local/lib/python3.8/dist-packages/sklearn/linear_model/_logistic.py:814: ConvergenceWarning: lbfgs failed to converge (status=1):\n",
            "STOP: TOTAL NO. of ITERATIONS REACHED LIMIT.\n",
            "\n",
            "Increase the number of iterations (max_iter) or scale the data as shown in:\n",
            "    https://scikit-learn.org/stable/modules/preprocessing.html\n",
            "Please also refer to the documentation for alternative solver options:\n",
            "    https://scikit-learn.org/stable/modules/linear_model.html#logistic-regression\n",
            "  n_iter_i = _check_optimize_result(\n"
          ]
        },
        {
          "output_type": "stream",
          "name": "stdout",
          "text": [
            "\n",
            "Finished Fitting: logistic_regression_c_0.5\n",
            "\n",
            "Finished Fitting: logistic_regression_c_1\n",
            "\n",
            "Finished Fitting: logistic_regression_c_2\n"
          ]
        },
        {
          "output_type": "stream",
          "name": "stderr",
          "text": [
            "/usr/local/lib/python3.8/dist-packages/sklearn/linear_model/_logistic.py:814: ConvergenceWarning: lbfgs failed to converge (status=1):\n",
            "STOP: TOTAL NO. of ITERATIONS REACHED LIMIT.\n",
            "\n",
            "Increase the number of iterations (max_iter) or scale the data as shown in:\n",
            "    https://scikit-learn.org/stable/modules/preprocessing.html\n",
            "Please also refer to the documentation for alternative solver options:\n",
            "    https://scikit-learn.org/stable/modules/linear_model.html#logistic-regression\n",
            "  n_iter_i = _check_optimize_result(\n"
          ]
        },
        {
          "output_type": "stream",
          "name": "stdout",
          "text": [
            "\n",
            "Finished Fitting: logistic_regression_c_4\n",
            "\n",
            "Finished Fitting: random_forest_dpth_8_estim_100\n",
            "\n",
            "Finished Fitting: random_forest_dpth_8_estim_300\n",
            "\n",
            "Finished Fitting: random_forest_dpth_8_estim_500\n",
            "\n",
            "Finished Fitting: random_forest_dpth_12_estim_100\n",
            "\n",
            "Finished Fitting: random_forest_dpth_12_estim_300\n",
            "\n",
            "Finished Fitting: random_forest_dpth_12_estim_500\n",
            "\n",
            "Finished Fitting: random_forest_dpth_16_estim_100\n",
            "\n",
            "Finished Fitting: random_forest_dpth_16_estim_300\n",
            "\n",
            "Finished Fitting: random_forest_dpth_16_estim_500\n",
            "\n",
            "Finished Fitting: xgboost_dpth_6_estim_100\n",
            "\n",
            "Finished Fitting: xgboost_dpth_6_estim_300\n",
            "\n",
            "Finished Fitting: xgboost_dpth_6_estim_500\n",
            "\n",
            "Finished Fitting: xgboost_dpth_8_estim_100\n",
            "\n",
            "Finished Fitting: xgboost_dpth_8_estim_300\n",
            "\n",
            "Finished Fitting: xgboost_dpth_8_estim_500\n",
            "\n",
            "Finished Fitting: xgboost_dpth_10_estim_100\n",
            "\n",
            "Finished Fitting: xgboost_dpth_10_estim_300\n",
            "\n",
            "Finished Fitting: xgboost_dpth_10_estim_500\n"
          ]
        },
        {
          "output_type": "stream",
          "name": "stderr",
          "text": [
            "\r 82%|████████▏ | 18/22 [4:22:13<1:35:50, 1437.69s/it]"
          ]
        },
        {
          "output_type": "stream",
          "name": "stdout",
          "text": [
            "\n",
            "Finished Fitting: logistic_regression_c_0.25\n",
            "\n",
            "Finished Fitting: logistic_regression_c_0.5\n",
            "\n",
            "Finished Fitting: logistic_regression_c_1\n"
          ]
        },
        {
          "output_type": "stream",
          "name": "stderr",
          "text": [
            "/usr/local/lib/python3.8/dist-packages/sklearn/linear_model/_logistic.py:814: ConvergenceWarning: lbfgs failed to converge (status=1):\n",
            "STOP: TOTAL NO. of ITERATIONS REACHED LIMIT.\n",
            "\n",
            "Increase the number of iterations (max_iter) or scale the data as shown in:\n",
            "    https://scikit-learn.org/stable/modules/preprocessing.html\n",
            "Please also refer to the documentation for alternative solver options:\n",
            "    https://scikit-learn.org/stable/modules/linear_model.html#logistic-regression\n",
            "  n_iter_i = _check_optimize_result(\n"
          ]
        },
        {
          "output_type": "stream",
          "name": "stdout",
          "text": [
            "\n",
            "Finished Fitting: logistic_regression_c_2\n",
            "\n",
            "Finished Fitting: logistic_regression_c_4\n",
            "\n",
            "Finished Fitting: random_forest_dpth_8_estim_100\n",
            "\n",
            "Finished Fitting: random_forest_dpth_8_estim_300\n",
            "\n",
            "Finished Fitting: random_forest_dpth_8_estim_500\n",
            "\n",
            "Finished Fitting: random_forest_dpth_12_estim_100\n",
            "\n",
            "Finished Fitting: random_forest_dpth_12_estim_300\n",
            "\n",
            "Finished Fitting: random_forest_dpth_12_estim_500\n",
            "\n",
            "Finished Fitting: random_forest_dpth_16_estim_100\n",
            "\n",
            "Finished Fitting: random_forest_dpth_16_estim_300\n",
            "\n",
            "Finished Fitting: random_forest_dpth_16_estim_500\n",
            "\n",
            "Finished Fitting: xgboost_dpth_6_estim_100\n",
            "\n",
            "Finished Fitting: xgboost_dpth_6_estim_300\n",
            "\n",
            "Finished Fitting: xgboost_dpth_6_estim_500\n",
            "\n",
            "Finished Fitting: xgboost_dpth_8_estim_100\n",
            "\n",
            "Finished Fitting: xgboost_dpth_8_estim_300\n",
            "\n",
            "Finished Fitting: xgboost_dpth_8_estim_500\n",
            "\n",
            "Finished Fitting: xgboost_dpth_10_estim_100\n",
            "\n",
            "Finished Fitting: xgboost_dpth_10_estim_300\n",
            "\n",
            "Finished Fitting: xgboost_dpth_10_estim_500\n"
          ]
        },
        {
          "output_type": "stream",
          "name": "stderr",
          "text": [
            "\r 86%|████████▋ | 19/22 [4:50:43<1:15:58, 1519.63s/it]"
          ]
        },
        {
          "output_type": "stream",
          "name": "stdout",
          "text": [
            "\n",
            "Finished Fitting: logistic_regression_c_0.25\n",
            "\n",
            "Finished Fitting: logistic_regression_c_0.5\n",
            "\n",
            "Finished Fitting: logistic_regression_c_1\n",
            "\n",
            "Finished Fitting: logistic_regression_c_2\n"
          ]
        },
        {
          "output_type": "stream",
          "name": "stderr",
          "text": [
            "/usr/local/lib/python3.8/dist-packages/sklearn/linear_model/_logistic.py:814: ConvergenceWarning: lbfgs failed to converge (status=1):\n",
            "STOP: TOTAL NO. of ITERATIONS REACHED LIMIT.\n",
            "\n",
            "Increase the number of iterations (max_iter) or scale the data as shown in:\n",
            "    https://scikit-learn.org/stable/modules/preprocessing.html\n",
            "Please also refer to the documentation for alternative solver options:\n",
            "    https://scikit-learn.org/stable/modules/linear_model.html#logistic-regression\n",
            "  n_iter_i = _check_optimize_result(\n"
          ]
        },
        {
          "output_type": "stream",
          "name": "stdout",
          "text": [
            "\n",
            "Finished Fitting: logistic_regression_c_4\n",
            "\n",
            "Finished Fitting: random_forest_dpth_8_estim_100\n",
            "\n",
            "Finished Fitting: random_forest_dpth_8_estim_300\n",
            "\n",
            "Finished Fitting: random_forest_dpth_8_estim_500\n",
            "\n",
            "Finished Fitting: random_forest_dpth_12_estim_100\n",
            "\n",
            "Finished Fitting: random_forest_dpth_12_estim_300\n",
            "\n",
            "Finished Fitting: random_forest_dpth_12_estim_500\n",
            "\n",
            "Finished Fitting: random_forest_dpth_16_estim_100\n",
            "\n",
            "Finished Fitting: random_forest_dpth_16_estim_300\n",
            "\n",
            "Finished Fitting: random_forest_dpth_16_estim_500\n",
            "\n",
            "Finished Fitting: xgboost_dpth_6_estim_100\n",
            "\n",
            "Finished Fitting: xgboost_dpth_6_estim_300\n",
            "\n",
            "Finished Fitting: xgboost_dpth_6_estim_500\n",
            "\n",
            "Finished Fitting: xgboost_dpth_8_estim_100\n",
            "\n",
            "Finished Fitting: xgboost_dpth_8_estim_300\n",
            "\n",
            "Finished Fitting: xgboost_dpth_8_estim_500\n",
            "\n",
            "Finished Fitting: xgboost_dpth_10_estim_100\n",
            "\n",
            "Finished Fitting: xgboost_dpth_10_estim_300\n",
            "\n",
            "Finished Fitting: xgboost_dpth_10_estim_500\n"
          ]
        },
        {
          "output_type": "stream",
          "name": "stderr",
          "text": [
            "\r 91%|█████████ | 20/22 [5:15:45<50:28, 1514.37s/it]  "
          ]
        },
        {
          "output_type": "stream",
          "name": "stdout",
          "text": [
            "\n",
            "Finished Fitting: logistic_regression_c_0.25\n",
            "\n",
            "Finished Fitting: logistic_regression_c_0.5\n",
            "\n",
            "Finished Fitting: logistic_regression_c_1\n",
            "\n",
            "Finished Fitting: logistic_regression_c_2\n",
            "\n",
            "Finished Fitting: logistic_regression_c_4\n",
            "\n",
            "Finished Fitting: random_forest_dpth_8_estim_100\n",
            "\n",
            "Finished Fitting: random_forest_dpth_8_estim_300\n",
            "\n",
            "Finished Fitting: random_forest_dpth_8_estim_500\n",
            "\n",
            "Finished Fitting: random_forest_dpth_12_estim_100\n",
            "\n",
            "Finished Fitting: random_forest_dpth_12_estim_300\n",
            "\n",
            "Finished Fitting: random_forest_dpth_12_estim_500\n",
            "\n",
            "Finished Fitting: random_forest_dpth_16_estim_100\n",
            "\n",
            "Finished Fitting: random_forest_dpth_16_estim_300\n",
            "\n",
            "Finished Fitting: random_forest_dpth_16_estim_500\n",
            "\n",
            "Finished Fitting: xgboost_dpth_6_estim_100\n",
            "\n",
            "Finished Fitting: xgboost_dpth_6_estim_300\n",
            "\n",
            "Finished Fitting: xgboost_dpth_6_estim_500\n",
            "\n",
            "Finished Fitting: xgboost_dpth_8_estim_100\n",
            "\n",
            "Finished Fitting: xgboost_dpth_8_estim_300\n",
            "\n",
            "Finished Fitting: xgboost_dpth_8_estim_500\n",
            "\n",
            "Finished Fitting: xgboost_dpth_10_estim_100\n",
            "\n",
            "Finished Fitting: xgboost_dpth_10_estim_300\n",
            "\n",
            "Finished Fitting: xgboost_dpth_10_estim_500\n"
          ]
        },
        {
          "output_type": "stream",
          "name": "stderr",
          "text": [
            "\r 95%|█████████▌| 21/22 [5:42:28<25:40, 1540.73s/it]"
          ]
        },
        {
          "output_type": "stream",
          "name": "stdout",
          "text": [
            "\n",
            "Finished Fitting: logistic_regression_c_0.25\n",
            "\n",
            "Finished Fitting: logistic_regression_c_0.5\n",
            "\n",
            "Finished Fitting: logistic_regression_c_1\n",
            "\n",
            "Finished Fitting: logistic_regression_c_2\n",
            "\n",
            "Finished Fitting: logistic_regression_c_4\n",
            "\n",
            "Finished Fitting: random_forest_dpth_8_estim_100\n",
            "\n",
            "Finished Fitting: random_forest_dpth_8_estim_300\n",
            "\n",
            "Finished Fitting: random_forest_dpth_8_estim_500\n",
            "\n",
            "Finished Fitting: random_forest_dpth_12_estim_100\n",
            "\n",
            "Finished Fitting: random_forest_dpth_12_estim_300\n",
            "\n",
            "Finished Fitting: random_forest_dpth_12_estim_500\n",
            "\n",
            "Finished Fitting: random_forest_dpth_16_estim_100\n",
            "\n",
            "Finished Fitting: random_forest_dpth_16_estim_300\n",
            "\n",
            "Finished Fitting: random_forest_dpth_16_estim_500\n",
            "\n",
            "Finished Fitting: xgboost_dpth_6_estim_100\n",
            "\n",
            "Finished Fitting: xgboost_dpth_6_estim_300\n",
            "\n",
            "Finished Fitting: xgboost_dpth_6_estim_500\n",
            "\n",
            "Finished Fitting: xgboost_dpth_8_estim_100\n",
            "\n",
            "Finished Fitting: xgboost_dpth_8_estim_300\n",
            "\n",
            "Finished Fitting: xgboost_dpth_8_estim_500\n",
            "\n",
            "Finished Fitting: xgboost_dpth_10_estim_100\n",
            "\n",
            "Finished Fitting: xgboost_dpth_10_estim_300\n",
            "\n",
            "Finished Fitting: xgboost_dpth_10_estim_500\n"
          ]
        },
        {
          "output_type": "stream",
          "name": "stderr",
          "text": [
            "100%|██████████| 22/22 [6:13:23<00:00, 1018.36s/it]\n"
          ]
        },
        {
          "output_type": "display_data",
          "data": {
            "text/plain": [
              "<Figure size 432x288 with 1 Axes>"
            ],
            "image/png": "[encoded data removed]"
          },
          "metadata": {
            "needs_background": "light"
          }
        }
      ]
    },
    {
      "cell_type": "code",
      "source": [],
      "metadata": {
        "id": "D3o-3G9Ww1nU"
      },
      "execution_count": null,
      "outputs": []
    }
  ]
}